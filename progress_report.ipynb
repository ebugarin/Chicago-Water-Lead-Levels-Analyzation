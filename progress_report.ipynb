{
 "cells": [
  {
   "cell_type": "markdown",
   "metadata": {},
   "source": [
    "# Project Introduction\n",
    "\n",
    "This project aims to investigate Analyzation of Chicago water lead levels using DWM's Water Quality Study. We will explore the dataset, perform data analysis, and apply machine learning techniques to gain insights and make predictions based on Chicago neighborhoods.\n"
   ]
  },
  {
   "cell_type": "markdown",
   "metadata": {},
   "source": [
    "## Changes Since Proposal\n",
    "\n",
    "Since the check-in proposal, we have made the following changes to our project plan:\n",
    "- **Removed**: [List any parts or components that were removed from the initial plan.]\n",
    "- **Added**: [List any new components or ideas that have been added to the project.]\n"
   ]
  },
  {
   "cell_type": "markdown",
   "metadata": {},
   "source": [
    "# Data Columns:\n",
    "Median household income\n",
    "Full population - 2017-2021\n",
    "Per capita income\n",
    "Full population - 2017-2021\n",
    "Major crime\n",
    "Full population - 2018-2022\n",
    "Violent crime\n",
    "Full population - 2018-2022\n",
    "Public crime\n",
    "Full population - 2012-2016\n",
    "Behavioral health hospitalizations\n",
    "Full population - 2017\n",
    "Cognitive difficulty\n",
    "Full population - 2017-2021\n",
    "Poverty rate\n",
    "Full population - 2017-2021\n",
    "High school graduation rate\n",
    "Full population - 2017-2021\n",
    "College graduation rate\n",
    "Full population - 2017-2021\n",
    "Demographics\n",
    "Non-Hispanic White - 2017-2021"
   ]
  },
  {
   "cell_type": "markdown",
   "metadata": {},
   "source": [
    "# Data Preparation\n",
    "\n",
    "Explain how the data was prepared, including data cleaning, handling missing values, and any transformations performed. Provide information about the source of the data and its structure."
   ]
  },
  {
   "cell_type": "markdown",
   "metadata": {},
   "source": [
    "# Exploratory Data Analysis\n",
    "\n",
    "In this section, we will explore the dataset and visualize its characteristics.\n",
    "\n",
    "## Zip code file.\n",
    "## Median household income\n",
    "Income in the past 12 months.\n",
    "Time Period: 2006—2021\n",
    "\n",
    "## Per capita income.\n",
    "Income in the past 12 months.\n",
    "Time Period: 2006—2021\n",
    "\n",
    "## Major crime\n",
    "The most serious offenses, also known as index crimes. Includes homicide, criminal sexual assault, robbery, aggravated assault, aggravated battery, burglary, larceny, vehicle theft, and arson.\n",
    "Time Period2001—2022\n",
    "\n",
    "## Violent crime\n",
    "Crimes related to violence. Includes homicide, criminal sexual assault, robbery, aggravated assault, and aggravated battery.\n",
    "Time Period 1985—2022\n",
    "\n",
    "## Public crimes. \n",
    "Public crimes include violent crimes and weapons violations that take place in the public way (such as in the street).\n",
    "Time Period 2001—2016\n",
    "\n",
    "## Behavioral health hospitalizations\n",
    "count of hospitalizations\n",
    "Number of inpatient hospitalization discharges, excluding discharges to Veterans Administration hospitals, with a primary diagnosis code of substance use disorder and mental disorders.\n",
    "\n",
    "## Cognitive difficulty\n",
    "% of residents\n",
    "Percent of residents reporting a cognitive difficulty.(Serious difficulty concentrating, remembering, or making decisions due to a physical, mental, or emotional condition.)\n",
    "Time Period 2014—2021\n",
    "\n",
    "## Poverty rate\n",
    "% of residents\n",
    "\n",
    "Percent of residents in families that are in poverty (below the Federal Poverty Level).\n",
    "\n",
    "## High school graduation rate\n",
    "% of residents\n",
    "\n",
    "Residents 25 or older with at least a high school degree: including GED and any higher education\n",
    "Time Period 2006—2021\n",
    "\n",
    "\n",
    "## College graduation rate\n",
    "% of residents\n",
    "\n",
    "Residents 25 or older with a four-year college (bachelor's) degree or higher\n",
    "Time Period2006—2021\n",
    "\n",
    "\n",
    "## Demographics\n",
    "% of residents\n",
    "Percent of residents Non-Hispanic White,\n",
    "Time Period 2005—2021\n"
   ]
  },
  {
   "cell_type": "markdown",
   "metadata": {},
   "source": [
    "# Visualizations\n",
    "\n",
    "- Visualization 1: [Description of the first visualization and responsible team member]\n"
   ]
  },
  {
   "cell_type": "code",
   "execution_count": null,
   "metadata": {},
   "outputs": [],
   "source": [
    "#  [Code and visualizations go here]"
   ]
  },
  {
   "cell_type": "markdown",
   "metadata": {},
   "source": [
    "- Visualization 2: [Description of the second visualization and responsible team member]"
   ]
  },
  {
   "cell_type": "code",
   "execution_count": null,
   "metadata": {},
   "outputs": [],
   "source": []
  },
  {
   "cell_type": "markdown",
   "metadata": {},
   "source": [
    "- Visualization 3: [Description of the second visualization and responsible team member]\n"
   ]
  },
  {
   "cell_type": "code",
   "execution_count": null,
   "metadata": {},
   "outputs": [],
   "source": []
  },
  {
   "cell_type": "markdown",
   "metadata": {},
   "source": [
    "\n",
    "- Visualization 4: [Description of the second visualization and responsible team member]\n"
   ]
  },
  {
   "cell_type": "code",
   "execution_count": null,
   "metadata": {},
   "outputs": [],
   "source": []
  },
  {
   "cell_type": "markdown",
   "metadata": {},
   "source": [
    "\n",
    "- Visualization 5: [Description of the second visualization and responsible team member]\n"
   ]
  },
  {
   "cell_type": "code",
   "execution_count": null,
   "metadata": {},
   "outputs": [],
   "source": []
  },
  {
   "cell_type": "markdown",
   "metadata": {},
   "source": [
    "# Machine Learning Analyses\n",
    "\n",
    "We will apply machine learning techniques to the dataset. Below are two of the analyses we will perform, along with baseline comparisons.\n"
   ]
  },
  {
   "cell_type": "markdown",
   "metadata": {},
   "source": [
    "# Reflection\n",
    "\n",
    "- **Challenging Part**: The most challenging part of the project has been [describe the challenge you faced].\n",
    "\n",
    "- **Initial Insights**: Our initial insights include [briefly mention any initial findings or trends].\n",
    "\n",
    "- **Concrete Results**: At this point, we can show [mention any concrete results or findings, if available]. If not, explain why.\n",
    "\n",
    "- **Current Biggest Problems**: The current biggest problems we're facing include [list the problems you're encountering].\n",
    "\n",
    "- **Project Progress**: We believe we are [on/behind/ahead] track with the project. We need to dedicate more time to [mention the parts that need more attention].\n",
    "\n",
    "- **Worth Proceeding**: Based on our initial exploration of the data, it is [worth/not worth] proceeding with the project because [explain your reasoning]. If not, describe how you plan to move forward.\n"
   ]
  },
  {
   "cell_type": "markdown",
   "metadata": {},
   "source": [
    "# Next Steps\n",
    "\n",
    "In the next month, our concrete plans and goals are:\n",
    "- [List specific tasks and objectives for the upcoming month]"
   ]
  }
 ],
 "metadata": {
  "kernelspec": {
   "display_name": "Python 3",
   "language": "python",
   "name": "python3"
  },
  "language_info": {
   "codemirror_mode": {
    "name": "ipython",
    "version": 3
   },
   "file_extension": ".py",
   "mimetype": "text/x-python",
   "name": "python",
   "nbconvert_exporter": "python",
   "pygments_lexer": "ipython3",
   "version": "3.10.6"
  }
 },
 "nbformat": 4,
 "nbformat_minor": 2
}
