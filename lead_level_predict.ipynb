{
 "cells": [
  {
   "cell_type": "markdown",
   "source": [
    "# Import Libraries"
   ],
   "metadata": {
    "collapsed": false
   }
  },
  {
   "cell_type": "code",
   "execution_count": 1,
   "metadata": {
    "collapsed": true,
    "ExecuteTime": {
     "end_time": "2023-11-29T20:22:28.273587900Z",
     "start_time": "2023-11-29T20:22:26.775964500Z"
    }
   },
   "outputs": [],
   "source": [
    "import pandas as pd\n",
    "import numpy as np\n",
    "import seaborn as sns\n",
    "%matplotlib inline\n",
    "import geopandas as gpd\n",
    "from shapely.geometry import Point\n",
    "import matplotlib.pyplot as plt\n",
    "from uszipcode import SearchEngine\n",
    "import altair as alt\n",
    "import json\n",
    "from sklearn.cluster import KMeans\n",
    "from sklearn.preprocessing import StandardScaler\n",
    "import warnings"
   ]
  },
  {
   "cell_type": "markdown",
   "source": [
    "# Read and clean data"
   ],
   "metadata": {
    "collapsed": false
   }
  },
  {
   "cell_type": "code",
   "execution_count": 4,
   "outputs": [
    {
     "data": {
      "text/plain": "               Sample Date               Address  1st Draw  2/3 Min  5 Min  \\\n0      2016-01-27 00:00:00   3800 S CAMPBELL AVE      1.54     1.00   1.00   \n1      2016-01-27 00:00:00   4500 N MERRIMAC AVE      3.22     2.17   1.94   \n2      2016-01-29 00:00:00   2500 N ST LOUIS AVE     19.10     1.89   1.66   \n3      2016-01-29 00:00:00  2500 N ST LOUIS AVE*     19.10     1.89   1.66   \n4      2016-01-29 00:00:00    6100 S LANGLEY AVE      1.00     1.00   1.00   \n...                    ...                   ...       ...      ...    ...   \n35421  2023-08-25 16:00:00  4900 W KAMERLING AVE      3.60     7.60   3.30   \n35422  2023-08-27 08:21:00       1400 N NOBLE ST      0.50     0.50   0.50   \n35423  2023-08-27 09:33:00      800 N PAULINA ST      0.50     0.50   0.50   \n35424  2023-08-28 07:00:00   1700 N PARKSIDE AVE      0.50     0.50   0.50   \n35425  2023-08-28 09:00:00      5200 W NELSON ST      1.60     0.50   0.60   \n\n       Address Num Address Dir    Street Name     Lat     Lon           Name  \\\n0             3800           S   CAMPBELL AVE  3800.0  2500.0   CAMPBELL AVE   \n1             4500           N   MERRIMAC AVE  4500.0  6234.0   MERRIMAC AVE   \n2             2500           N   ST LOUIS AVE  2500.0  3500.0   ST LOUIS AVE   \n3             2500           N   ST LOUIS AVE  2500.0  3500.0   ST LOUIS AVE   \n4             6100           S    LANGLEY AVE  6100.0   700.0    LANGLEY AVE   \n...            ...         ...            ...     ...     ...            ...   \n35421         4900           W  KAMERLING AVE  1332.0  4900.0  KAMERLING AVE   \n35422         1400           N       NOBLE ST  1400.0  1400.0       NOBLE ST   \n35423          800           N     PAULINA ST   800.0  1700.0     PAULINA ST   \n35424         1700           N   PARKSIDE AVE  1700.0  5632.0   PARKSIDE AVE   \n35425         5200           W      NELSON ST  3032.0  5200.0      NELSON ST   \n\n      Street Dir  Street Num    Lat GPS    Lon GPS    zip  \n0              W      2500.0  41.817917 -87.689244  60609  \n1              W      6234.0  41.963902 -87.780975  60706  \n2              W      3500.0  41.927523 -87.713810  60647  \n3              W      3500.0  41.927523 -87.713810  60647  \n4              E       700.0  41.779099 -87.610813  60637  \n...          ...         ...        ...        ...    ...  \n35421          N      1332.0  41.906278 -87.748204  60651  \n35422          W      1400.0  41.907515 -87.662221  60642  \n35423          W      1700.0  41.896601 -87.669591  60622  \n35424          W      5632.0  41.912972 -87.766186  60639  \n35425          N      3032.0  41.937200 -87.755574  60641  \n\n[35426 rows x 16 columns]",
      "text/html": "<div>\n<style scoped>\n    .dataframe tbody tr th:only-of-type {\n        vertical-align: middle;\n    }\n\n    .dataframe tbody tr th {\n        vertical-align: top;\n    }\n\n    .dataframe thead th {\n        text-align: right;\n    }\n</style>\n<table border=\"1\" class=\"dataframe\">\n  <thead>\n    <tr style=\"text-align: right;\">\n      <th></th>\n      <th>Sample Date</th>\n      <th>Address</th>\n      <th>1st Draw</th>\n      <th>2/3 Min</th>\n      <th>5 Min</th>\n      <th>Address Num</th>\n      <th>Address Dir</th>\n      <th>Street Name</th>\n      <th>Lat</th>\n      <th>Lon</th>\n      <th>Name</th>\n      <th>Street Dir</th>\n      <th>Street Num</th>\n      <th>Lat GPS</th>\n      <th>Lon GPS</th>\n      <th>zip</th>\n    </tr>\n  </thead>\n  <tbody>\n    <tr>\n      <th>0</th>\n      <td>2016-01-27 00:00:00</td>\n      <td>3800 S CAMPBELL AVE</td>\n      <td>1.54</td>\n      <td>1.00</td>\n      <td>1.00</td>\n      <td>3800</td>\n      <td>S</td>\n      <td>CAMPBELL AVE</td>\n      <td>3800.0</td>\n      <td>2500.0</td>\n      <td>CAMPBELL AVE</td>\n      <td>W</td>\n      <td>2500.0</td>\n      <td>41.817917</td>\n      <td>-87.689244</td>\n      <td>60609</td>\n    </tr>\n    <tr>\n      <th>1</th>\n      <td>2016-01-27 00:00:00</td>\n      <td>4500 N MERRIMAC AVE</td>\n      <td>3.22</td>\n      <td>2.17</td>\n      <td>1.94</td>\n      <td>4500</td>\n      <td>N</td>\n      <td>MERRIMAC AVE</td>\n      <td>4500.0</td>\n      <td>6234.0</td>\n      <td>MERRIMAC AVE</td>\n      <td>W</td>\n      <td>6234.0</td>\n      <td>41.963902</td>\n      <td>-87.780975</td>\n      <td>60706</td>\n    </tr>\n    <tr>\n      <th>2</th>\n      <td>2016-01-29 00:00:00</td>\n      <td>2500 N ST LOUIS AVE</td>\n      <td>19.10</td>\n      <td>1.89</td>\n      <td>1.66</td>\n      <td>2500</td>\n      <td>N</td>\n      <td>ST LOUIS AVE</td>\n      <td>2500.0</td>\n      <td>3500.0</td>\n      <td>ST LOUIS AVE</td>\n      <td>W</td>\n      <td>3500.0</td>\n      <td>41.927523</td>\n      <td>-87.713810</td>\n      <td>60647</td>\n    </tr>\n    <tr>\n      <th>3</th>\n      <td>2016-01-29 00:00:00</td>\n      <td>2500 N ST LOUIS AVE*</td>\n      <td>19.10</td>\n      <td>1.89</td>\n      <td>1.66</td>\n      <td>2500</td>\n      <td>N</td>\n      <td>ST LOUIS AVE</td>\n      <td>2500.0</td>\n      <td>3500.0</td>\n      <td>ST LOUIS AVE</td>\n      <td>W</td>\n      <td>3500.0</td>\n      <td>41.927523</td>\n      <td>-87.713810</td>\n      <td>60647</td>\n    </tr>\n    <tr>\n      <th>4</th>\n      <td>2016-01-29 00:00:00</td>\n      <td>6100 S LANGLEY AVE</td>\n      <td>1.00</td>\n      <td>1.00</td>\n      <td>1.00</td>\n      <td>6100</td>\n      <td>S</td>\n      <td>LANGLEY AVE</td>\n      <td>6100.0</td>\n      <td>700.0</td>\n      <td>LANGLEY AVE</td>\n      <td>E</td>\n      <td>700.0</td>\n      <td>41.779099</td>\n      <td>-87.610813</td>\n      <td>60637</td>\n    </tr>\n    <tr>\n      <th>...</th>\n      <td>...</td>\n      <td>...</td>\n      <td>...</td>\n      <td>...</td>\n      <td>...</td>\n      <td>...</td>\n      <td>...</td>\n      <td>...</td>\n      <td>...</td>\n      <td>...</td>\n      <td>...</td>\n      <td>...</td>\n      <td>...</td>\n      <td>...</td>\n      <td>...</td>\n      <td>...</td>\n    </tr>\n    <tr>\n      <th>35421</th>\n      <td>2023-08-25 16:00:00</td>\n      <td>4900 W KAMERLING AVE</td>\n      <td>3.60</td>\n      <td>7.60</td>\n      <td>3.30</td>\n      <td>4900</td>\n      <td>W</td>\n      <td>KAMERLING AVE</td>\n      <td>1332.0</td>\n      <td>4900.0</td>\n      <td>KAMERLING AVE</td>\n      <td>N</td>\n      <td>1332.0</td>\n      <td>41.906278</td>\n      <td>-87.748204</td>\n      <td>60651</td>\n    </tr>\n    <tr>\n      <th>35422</th>\n      <td>2023-08-27 08:21:00</td>\n      <td>1400 N NOBLE ST</td>\n      <td>0.50</td>\n      <td>0.50</td>\n      <td>0.50</td>\n      <td>1400</td>\n      <td>N</td>\n      <td>NOBLE ST</td>\n      <td>1400.0</td>\n      <td>1400.0</td>\n      <td>NOBLE ST</td>\n      <td>W</td>\n      <td>1400.0</td>\n      <td>41.907515</td>\n      <td>-87.662221</td>\n      <td>60642</td>\n    </tr>\n    <tr>\n      <th>35423</th>\n      <td>2023-08-27 09:33:00</td>\n      <td>800 N PAULINA ST</td>\n      <td>0.50</td>\n      <td>0.50</td>\n      <td>0.50</td>\n      <td>800</td>\n      <td>N</td>\n      <td>PAULINA ST</td>\n      <td>800.0</td>\n      <td>1700.0</td>\n      <td>PAULINA ST</td>\n      <td>W</td>\n      <td>1700.0</td>\n      <td>41.896601</td>\n      <td>-87.669591</td>\n      <td>60622</td>\n    </tr>\n    <tr>\n      <th>35424</th>\n      <td>2023-08-28 07:00:00</td>\n      <td>1700 N PARKSIDE AVE</td>\n      <td>0.50</td>\n      <td>0.50</td>\n      <td>0.50</td>\n      <td>1700</td>\n      <td>N</td>\n      <td>PARKSIDE AVE</td>\n      <td>1700.0</td>\n      <td>5632.0</td>\n      <td>PARKSIDE AVE</td>\n      <td>W</td>\n      <td>5632.0</td>\n      <td>41.912972</td>\n      <td>-87.766186</td>\n      <td>60639</td>\n    </tr>\n    <tr>\n      <th>35425</th>\n      <td>2023-08-28 09:00:00</td>\n      <td>5200 W NELSON ST</td>\n      <td>1.60</td>\n      <td>0.50</td>\n      <td>0.60</td>\n      <td>5200</td>\n      <td>W</td>\n      <td>NELSON ST</td>\n      <td>3032.0</td>\n      <td>5200.0</td>\n      <td>NELSON ST</td>\n      <td>N</td>\n      <td>3032.0</td>\n      <td>41.937200</td>\n      <td>-87.755574</td>\n      <td>60641</td>\n    </tr>\n  </tbody>\n</table>\n<p>35426 rows × 16 columns</p>\n</div>"
     },
     "execution_count": 4,
     "metadata": {},
     "output_type": "execute_result"
    }
   ],
   "source": [
    "df = pd.read_csv('merged_df.csv',index_col=0)\n",
    "df = df[df['1st Draw'] <= 100]\n",
    "df = df[df['2/3 Min'] <= 100]\n",
    "df = df[df['5 Min'] <= 100]\n",
    "df = df[df['zip'] != 'error'].reset_index()\n",
    "df = df.drop(['index'], axis=1)\n",
    "\n",
    "df"
   ],
   "metadata": {
    "collapsed": false,
    "ExecuteTime": {
     "end_time": "2023-11-29T20:52:27.046922600Z",
     "start_time": "2023-11-29T20:52:26.927528200Z"
    }
   }
  },
  {
   "cell_type": "code",
   "execution_count": null,
   "outputs": [],
   "source": [],
   "metadata": {
    "collapsed": false
   }
  }
 ],
 "metadata": {
  "kernelspec": {
   "display_name": "Python 3",
   "language": "python",
   "name": "python3"
  },
  "language_info": {
   "codemirror_mode": {
    "name": "ipython",
    "version": 2
   },
   "file_extension": ".py",
   "mimetype": "text/x-python",
   "name": "python",
   "nbconvert_exporter": "python",
   "pygments_lexer": "ipython2",
   "version": "2.7.6"
  }
 },
 "nbformat": 4,
 "nbformat_minor": 0
}
