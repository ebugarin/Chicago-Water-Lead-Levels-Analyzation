{
 "cells": [
  {
   "cell_type": "markdown",
   "source": [
    "# Import Libraries"
   ],
   "metadata": {
    "collapsed": false
   }
  },
  {
   "cell_type": "code",
   "execution_count": 2,
   "metadata": {
    "collapsed": true,
    "ExecuteTime": {
     "end_time": "2023-11-29T23:35:19.035703500Z",
     "start_time": "2023-11-29T23:35:18.256607700Z"
    }
   },
   "outputs": [],
   "source": [
    "import pandas as pd\n",
    "import numpy as np\n",
    "import seaborn as sns\n",
    "%matplotlib inline\n",
    "import geopandas as gpd\n",
    "from shapely.geometry import Point\n",
    "import matplotlib.pyplot as plt\n",
    "from uszipcode import SearchEngine\n",
    "import altair as alt\n",
    "import json\n",
    "from sklearn.cluster import KMeans\n",
    "from sklearn.preprocessing import StandardScaler\n",
    "import warnings"
   ]
  },
  {
   "cell_type": "markdown",
   "source": [
    "# Set target zip code to predict"
   ],
   "metadata": {
    "collapsed": false
   }
  },
  {
   "cell_type": "code",
   "execution_count": 4,
   "outputs": [],
   "source": [
    "target_zipcode = '60607'"
   ],
   "metadata": {
    "collapsed": false,
    "ExecuteTime": {
     "end_time": "2023-11-29T23:36:49.793889800Z",
     "start_time": "2023-11-29T23:36:49.784734900Z"
    }
   }
  },
  {
   "cell_type": "markdown",
   "source": [
    "# Read and clean data"
   ],
   "metadata": {
    "collapsed": false
   }
  },
  {
   "cell_type": "code",
   "execution_count": 5,
   "outputs": [
    {
     "data": {
      "text/plain": "               Sample Date                 Address  1st Draw  2/3 Min  5 Min  \\\n117    2016-03-01 00:00:00  1500 S BLUE ISLAND AVE       1.0      1.0    1.0   \n421    2016-06-05 00:00:00       1300 W MADISON ST       1.0      1.0    1.0   \n554    2016-06-14 00:00:00           0 S LAFLIN ST       1.0      1.0    1.0   \n672    2016-06-28 00:00:00          1100 W POLK ST       5.1      3.1    1.8   \n749    2016-07-08 00:00:00         1500 W ADAMS ST       1.0      1.0    1.0   \n...                    ...                     ...       ...      ...    ...   \n34548  2023-07-06 08:29:00          00 N LOOMIS ST       0.5      0.5    0.5   \n34710  2023-07-16 07:22:00      1300 W Fillmore St       0.5      0.5    0.5   \n34904  2023-07-27 09:01:00         800 S LOOMIS ST       1.9      1.7    1.4   \n35246  2023-08-12 07:52:00       300 S SANGAMON ST       0.5      0.5    0.5   \n35257  2023-08-14 05:25:00          1100 W 14TH PL       0.5      0.5    0.5   \n\n       Address Num Address Dir      Street Name     Lat     Lon  \\\n117           1500           S  BLUE ISLAND AVE  1500.0  1068.0   \n421           1300           W       MADISON ST     0.0  1300.0   \n554              0           S        LAFLIN ST     0.0  1500.0   \n672           1100           W          POLK ST   800.0  1100.0   \n749           1500           W         ADAMS ST   200.0  1500.0   \n...            ...         ...              ...     ...     ...   \n34548            0           N        LOOMIS ST     0.0  1400.0   \n34710         1300           W      FILLMORE ST  1100.0  1300.0   \n34904          800           S        LOOMIS ST   800.0  1400.0   \n35246          300           S      SANGAMON ST   300.0   932.0   \n35257         1100           W          14TH PL  1432.0  1100.0   \n\n                  Name Street Dir  Street Num    Lat GPS    Lon GPS    zip  \n117    BLUE ISLAND AVE          W      1068.0  41.856734 -87.654064  60607  \n421         MADISON ST          N         0.0  41.882050 -87.659764  60607  \n554          LAFLIN ST          W      1500.0  41.882050 -87.664677  60607  \n672            POLK ST          S       800.0  41.868548 -87.654851  60607  \n749           ADAMS ST          S       200.0  41.878675 -87.664677  60607  \n...                ...        ...         ...        ...        ...    ...  \n34548        LOOMIS ST          W      1400.0  41.882050 -87.662221  60607  \n34710      FILLMORE ST          S      1100.0  41.863485 -87.659764  60607  \n34904        LOOMIS ST          W      1400.0  41.868548 -87.662221  60607  \n35246      SANGAMON ST          W       932.0  41.876987 -87.650723  60607  \n35257          14TH PL          S      1432.0  41.857882 -87.654851  60607  \n\n[235 rows x 16 columns]",
      "text/html": "<div>\n<style scoped>\n    .dataframe tbody tr th:only-of-type {\n        vertical-align: middle;\n    }\n\n    .dataframe tbody tr th {\n        vertical-align: top;\n    }\n\n    .dataframe thead th {\n        text-align: right;\n    }\n</style>\n<table border=\"1\" class=\"dataframe\">\n  <thead>\n    <tr style=\"text-align: right;\">\n      <th></th>\n      <th>Sample Date</th>\n      <th>Address</th>\n      <th>1st Draw</th>\n      <th>2/3 Min</th>\n      <th>5 Min</th>\n      <th>Address Num</th>\n      <th>Address Dir</th>\n      <th>Street Name</th>\n      <th>Lat</th>\n      <th>Lon</th>\n      <th>Name</th>\n      <th>Street Dir</th>\n      <th>Street Num</th>\n      <th>Lat GPS</th>\n      <th>Lon GPS</th>\n      <th>zip</th>\n    </tr>\n  </thead>\n  <tbody>\n    <tr>\n      <th>117</th>\n      <td>2016-03-01 00:00:00</td>\n      <td>1500 S BLUE ISLAND AVE</td>\n      <td>1.0</td>\n      <td>1.0</td>\n      <td>1.0</td>\n      <td>1500</td>\n      <td>S</td>\n      <td>BLUE ISLAND AVE</td>\n      <td>1500.0</td>\n      <td>1068.0</td>\n      <td>BLUE ISLAND AVE</td>\n      <td>W</td>\n      <td>1068.0</td>\n      <td>41.856734</td>\n      <td>-87.654064</td>\n      <td>60607</td>\n    </tr>\n    <tr>\n      <th>421</th>\n      <td>2016-06-05 00:00:00</td>\n      <td>1300 W MADISON ST</td>\n      <td>1.0</td>\n      <td>1.0</td>\n      <td>1.0</td>\n      <td>1300</td>\n      <td>W</td>\n      <td>MADISON ST</td>\n      <td>0.0</td>\n      <td>1300.0</td>\n      <td>MADISON ST</td>\n      <td>N</td>\n      <td>0.0</td>\n      <td>41.882050</td>\n      <td>-87.659764</td>\n      <td>60607</td>\n    </tr>\n    <tr>\n      <th>554</th>\n      <td>2016-06-14 00:00:00</td>\n      <td>0 S LAFLIN ST</td>\n      <td>1.0</td>\n      <td>1.0</td>\n      <td>1.0</td>\n      <td>0</td>\n      <td>S</td>\n      <td>LAFLIN ST</td>\n      <td>0.0</td>\n      <td>1500.0</td>\n      <td>LAFLIN ST</td>\n      <td>W</td>\n      <td>1500.0</td>\n      <td>41.882050</td>\n      <td>-87.664677</td>\n      <td>60607</td>\n    </tr>\n    <tr>\n      <th>672</th>\n      <td>2016-06-28 00:00:00</td>\n      <td>1100 W POLK ST</td>\n      <td>5.1</td>\n      <td>3.1</td>\n      <td>1.8</td>\n      <td>1100</td>\n      <td>W</td>\n      <td>POLK ST</td>\n      <td>800.0</td>\n      <td>1100.0</td>\n      <td>POLK ST</td>\n      <td>S</td>\n      <td>800.0</td>\n      <td>41.868548</td>\n      <td>-87.654851</td>\n      <td>60607</td>\n    </tr>\n    <tr>\n      <th>749</th>\n      <td>2016-07-08 00:00:00</td>\n      <td>1500 W ADAMS ST</td>\n      <td>1.0</td>\n      <td>1.0</td>\n      <td>1.0</td>\n      <td>1500</td>\n      <td>W</td>\n      <td>ADAMS ST</td>\n      <td>200.0</td>\n      <td>1500.0</td>\n      <td>ADAMS ST</td>\n      <td>S</td>\n      <td>200.0</td>\n      <td>41.878675</td>\n      <td>-87.664677</td>\n      <td>60607</td>\n    </tr>\n    <tr>\n      <th>...</th>\n      <td>...</td>\n      <td>...</td>\n      <td>...</td>\n      <td>...</td>\n      <td>...</td>\n      <td>...</td>\n      <td>...</td>\n      <td>...</td>\n      <td>...</td>\n      <td>...</td>\n      <td>...</td>\n      <td>...</td>\n      <td>...</td>\n      <td>...</td>\n      <td>...</td>\n      <td>...</td>\n    </tr>\n    <tr>\n      <th>34548</th>\n      <td>2023-07-06 08:29:00</td>\n      <td>00 N LOOMIS ST</td>\n      <td>0.5</td>\n      <td>0.5</td>\n      <td>0.5</td>\n      <td>0</td>\n      <td>N</td>\n      <td>LOOMIS ST</td>\n      <td>0.0</td>\n      <td>1400.0</td>\n      <td>LOOMIS ST</td>\n      <td>W</td>\n      <td>1400.0</td>\n      <td>41.882050</td>\n      <td>-87.662221</td>\n      <td>60607</td>\n    </tr>\n    <tr>\n      <th>34710</th>\n      <td>2023-07-16 07:22:00</td>\n      <td>1300 W Fillmore St</td>\n      <td>0.5</td>\n      <td>0.5</td>\n      <td>0.5</td>\n      <td>1300</td>\n      <td>W</td>\n      <td>FILLMORE ST</td>\n      <td>1100.0</td>\n      <td>1300.0</td>\n      <td>FILLMORE ST</td>\n      <td>S</td>\n      <td>1100.0</td>\n      <td>41.863485</td>\n      <td>-87.659764</td>\n      <td>60607</td>\n    </tr>\n    <tr>\n      <th>34904</th>\n      <td>2023-07-27 09:01:00</td>\n      <td>800 S LOOMIS ST</td>\n      <td>1.9</td>\n      <td>1.7</td>\n      <td>1.4</td>\n      <td>800</td>\n      <td>S</td>\n      <td>LOOMIS ST</td>\n      <td>800.0</td>\n      <td>1400.0</td>\n      <td>LOOMIS ST</td>\n      <td>W</td>\n      <td>1400.0</td>\n      <td>41.868548</td>\n      <td>-87.662221</td>\n      <td>60607</td>\n    </tr>\n    <tr>\n      <th>35246</th>\n      <td>2023-08-12 07:52:00</td>\n      <td>300 S SANGAMON ST</td>\n      <td>0.5</td>\n      <td>0.5</td>\n      <td>0.5</td>\n      <td>300</td>\n      <td>S</td>\n      <td>SANGAMON ST</td>\n      <td>300.0</td>\n      <td>932.0</td>\n      <td>SANGAMON ST</td>\n      <td>W</td>\n      <td>932.0</td>\n      <td>41.876987</td>\n      <td>-87.650723</td>\n      <td>60607</td>\n    </tr>\n    <tr>\n      <th>35257</th>\n      <td>2023-08-14 05:25:00</td>\n      <td>1100 W 14TH PL</td>\n      <td>0.5</td>\n      <td>0.5</td>\n      <td>0.5</td>\n      <td>1100</td>\n      <td>W</td>\n      <td>14TH PL</td>\n      <td>1432.0</td>\n      <td>1100.0</td>\n      <td>14TH PL</td>\n      <td>S</td>\n      <td>1432.0</td>\n      <td>41.857882</td>\n      <td>-87.654851</td>\n      <td>60607</td>\n    </tr>\n  </tbody>\n</table>\n<p>235 rows × 16 columns</p>\n</div>"
     },
     "execution_count": 5,
     "metadata": {},
     "output_type": "execute_result"
    }
   ],
   "source": [
    "\n",
    "df = pd.read_csv('merged_df.csv',index_col=0)\n",
    "df = df[df['1st Draw'] <= 100]\n",
    "df = df[df['2/3 Min'] <= 100]\n",
    "df = df[df['5 Min'] <= 100]\n",
    "df = df[df['zip'] != 'error'].reset_index()\n",
    "df = df.drop(['index'], axis=1)\n",
    "df = df[df['zip'] == target_zipcode]\n",
    "df"
   ],
   "metadata": {
    "collapsed": false,
    "ExecuteTime": {
     "end_time": "2023-11-29T23:37:19.729137300Z",
     "start_time": "2023-11-29T23:37:19.587900300Z"
    }
   }
  },
  {
   "cell_type": "code",
   "execution_count": null,
   "outputs": [],
   "source": [],
   "metadata": {
    "collapsed": false
   }
  }
 ],
 "metadata": {
  "kernelspec": {
   "display_name": "Python 3",
   "language": "python",
   "name": "python3"
  },
  "language_info": {
   "codemirror_mode": {
    "name": "ipython",
    "version": 2
   },
   "file_extension": ".py",
   "mimetype": "text/x-python",
   "name": "python",
   "nbconvert_exporter": "python",
   "pygments_lexer": "ipython2",
   "version": "2.7.6"
  }
 },
 "nbformat": 4,
 "nbformat_minor": 0
}
