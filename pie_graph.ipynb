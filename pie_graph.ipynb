{
 "cells": [
  {
   "cell_type": "markdown",
   "source": [
    "## Install libraries:"
   ],
   "metadata": {
    "collapsed": false
   }
  },
  {
   "cell_type": "code",
   "execution_count": 1,
   "metadata": {
    "collapsed": true,
    "ExecuteTime": {
     "end_time": "2023-11-26T22:44:31.049898700Z",
     "start_time": "2023-11-26T22:44:04.633303700Z"
    }
   },
   "outputs": [
    {
     "name": "stdout",
     "output_type": "stream",
     "text": [
      "Requirement already satisfied: pip in c:\\users\\harry\\appdata\\local\\programs\\python\\python311\\lib\\site-packages (23.3.1)\n",
      "Note: you may need to restart the kernel to use updated packages.\n",
      "Requirement already satisfied: seaborn in c:\\users\\harry\\appdata\\local\\programs\\python\\python311\\lib\\site-packages (0.12.2)\n",
      "Requirement already satisfied: numpy!=1.24.0,>=1.17 in c:\\users\\harry\\appdata\\local\\programs\\python\\python311\\lib\\site-packages (from seaborn) (1.24.3)\n",
      "Requirement already satisfied: pandas>=0.25 in c:\\users\\harry\\appdata\\local\\programs\\python\\python311\\lib\\site-packages (from seaborn) (2.0.3)\n",
      "Requirement already satisfied: matplotlib!=3.6.1,>=3.1 in c:\\users\\harry\\appdata\\local\\programs\\python\\python311\\lib\\site-packages (from seaborn) (3.7.2)\n",
      "Requirement already satisfied: contourpy>=1.0.1 in c:\\users\\harry\\appdata\\local\\programs\\python\\python311\\lib\\site-packages (from matplotlib!=3.6.1,>=3.1->seaborn) (1.1.0)\n",
      "Requirement already satisfied: cycler>=0.10 in c:\\users\\harry\\appdata\\local\\programs\\python\\python311\\lib\\site-packages (from matplotlib!=3.6.1,>=3.1->seaborn) (0.11.0)\n",
      "Requirement already satisfied: fonttools>=4.22.0 in c:\\users\\harry\\appdata\\local\\programs\\python\\python311\\lib\\site-packages (from matplotlib!=3.6.1,>=3.1->seaborn) (4.42.0)\n",
      "Requirement already satisfied: kiwisolver>=1.0.1 in c:\\users\\harry\\appdata\\local\\programs\\python\\python311\\lib\\site-packages (from matplotlib!=3.6.1,>=3.1->seaborn) (1.4.4)\n",
      "Requirement already satisfied: packaging>=20.0 in c:\\users\\harry\\appdata\\local\\programs\\python\\python311\\lib\\site-packages (from matplotlib!=3.6.1,>=3.1->seaborn) (23.1)\n",
      "Requirement already satisfied: pillow>=6.2.0 in c:\\users\\harry\\appdata\\local\\programs\\python\\python311\\lib\\site-packages (from matplotlib!=3.6.1,>=3.1->seaborn) (10.0.0)\n",
      "Requirement already satisfied: pyparsing<3.1,>=2.3.1 in c:\\users\\harry\\appdata\\local\\programs\\python\\python311\\lib\\site-packages (from matplotlib!=3.6.1,>=3.1->seaborn) (3.0.9)\n",
      "Requirement already satisfied: python-dateutil>=2.7 in c:\\users\\harry\\appdata\\local\\programs\\python\\python311\\lib\\site-packages (from matplotlib!=3.6.1,>=3.1->seaborn) (2.8.2)\n",
      "Requirement already satisfied: pytz>=2020.1 in c:\\users\\harry\\appdata\\local\\programs\\python\\python311\\lib\\site-packages (from pandas>=0.25->seaborn) (2023.3)\n",
      "Requirement already satisfied: tzdata>=2022.1 in c:\\users\\harry\\appdata\\local\\programs\\python\\python311\\lib\\site-packages (from pandas>=0.25->seaborn) (2023.3)\n",
      "Requirement already satisfied: six>=1.5 in c:\\users\\harry\\appdata\\local\\programs\\python\\python311\\lib\\site-packages (from python-dateutil>=2.7->matplotlib!=3.6.1,>=3.1->seaborn) (1.16.0)\n",
      "Note: you may need to restart the kernel to use updated packages.\n",
      "Requirement already satisfied: openpyxl in c:\\users\\harry\\appdata\\local\\programs\\python\\python311\\lib\\site-packages (3.1.2)\n",
      "Requirement already satisfied: et-xmlfile in c:\\users\\harry\\appdata\\local\\programs\\python\\python311\\lib\\site-packages (from openpyxl) (1.1.0)\n",
      "Note: you may need to restart the kernel to use updated packages.\n",
      "Requirement already satisfied: python-Levenshtein in c:\\users\\harry\\appdata\\local\\programs\\python\\python311\\lib\\site-packages (0.23.0)\n",
      "Requirement already satisfied: Levenshtein==0.23.0 in c:\\users\\harry\\appdata\\local\\programs\\python\\python311\\lib\\site-packages (from python-Levenshtein) (0.23.0)\n",
      "Requirement already satisfied: rapidfuzz<4.0.0,>=3.1.0 in c:\\users\\harry\\appdata\\local\\programs\\python\\python311\\lib\\site-packages (from Levenshtein==0.23.0->python-Levenshtein) (3.5.2)\n",
      "Note: you may need to restart the kernel to use updated packages.\n",
      "Requirement already satisfied: pandas in c:\\users\\harry\\appdata\\local\\programs\\python\\python311\\lib\\site-packages (2.0.3)\n",
      "Requirement already satisfied: python-dateutil>=2.8.2 in c:\\users\\harry\\appdata\\local\\programs\\python\\python311\\lib\\site-packages (from pandas) (2.8.2)\n",
      "Requirement already satisfied: pytz>=2020.1 in c:\\users\\harry\\appdata\\local\\programs\\python\\python311\\lib\\site-packages (from pandas) (2023.3)\n",
      "Requirement already satisfied: tzdata>=2022.1 in c:\\users\\harry\\appdata\\local\\programs\\python\\python311\\lib\\site-packages (from pandas) (2023.3)\n",
      "Requirement already satisfied: numpy>=1.21.0 in c:\\users\\harry\\appdata\\local\\programs\\python\\python311\\lib\\site-packages (from pandas) (1.24.3)\n",
      "Requirement already satisfied: six>=1.5 in c:\\users\\harry\\appdata\\local\\programs\\python\\python311\\lib\\site-packages (from python-dateutil>=2.8.2->pandas) (1.16.0)\n",
      "Note: you may need to restart the kernel to use updated packages.\n",
      "Requirement already satisfied: numpy in c:\\users\\harry\\appdata\\local\\programs\\python\\python311\\lib\\site-packages (1.24.3)\n",
      "Note: you may need to restart the kernel to use updated packages.\n",
      "Requirement already satisfied: geopandas in c:\\users\\harry\\appdata\\local\\programs\\python\\python311\\lib\\site-packages (0.14.0)Note: you may need to restart the kernel to use updated packages.\n",
      "\n",
      "Requirement already satisfied: fiona>=1.8.21 in c:\\users\\harry\\appdata\\local\\programs\\python\\python311\\lib\\site-packages (from geopandas) (1.9.5)\n",
      "Requirement already satisfied: packaging in c:\\users\\harry\\appdata\\local\\programs\\python\\python311\\lib\\site-packages (from geopandas) (23.1)\n",
      "Requirement already satisfied: pandas>=1.4.0 in c:\\users\\harry\\appdata\\local\\programs\\python\\python311\\lib\\site-packages (from geopandas) (2.0.3)\n",
      "Requirement already satisfied: pyproj>=3.3.0 in c:\\users\\harry\\appdata\\local\\programs\\python\\python311\\lib\\site-packages (from geopandas) (3.6.1)\n",
      "Requirement already satisfied: shapely>=1.8.0 in c:\\users\\harry\\appdata\\local\\programs\\python\\python311\\lib\\site-packages (from geopandas) (2.0.2)\n",
      "Requirement already satisfied: attrs>=19.2.0 in c:\\users\\harry\\appdata\\local\\programs\\python\\python311\\lib\\site-packages (from fiona>=1.8.21->geopandas) (23.1.0)\n",
      "Requirement already satisfied: certifi in c:\\users\\harry\\appdata\\local\\programs\\python\\python311\\lib\\site-packages (from fiona>=1.8.21->geopandas) (2023.5.7)\n",
      "Requirement already satisfied: click~=8.0 in c:\\users\\harry\\appdata\\local\\programs\\python\\python311\\lib\\site-packages (from fiona>=1.8.21->geopandas) (8.1.7)\n",
      "Requirement already satisfied: click-plugins>=1.0 in c:\\users\\harry\\appdata\\local\\programs\\python\\python311\\lib\\site-packages (from fiona>=1.8.21->geopandas) (1.1.1)\n",
      "Requirement already satisfied: cligj>=0.5 in c:\\users\\harry\\appdata\\local\\programs\\python\\python311\\lib\\site-packages (from fiona>=1.8.21->geopandas) (0.7.2)\n",
      "Requirement already satisfied: six in c:\\users\\harry\\appdata\\local\\programs\\python\\python311\\lib\\site-packages (from fiona>=1.8.21->geopandas) (1.16.0)\n",
      "Requirement already satisfied: setuptools in c:\\users\\harry\\appdata\\local\\programs\\python\\python311\\lib\\site-packages (from fiona>=1.8.21->geopandas) (65.5.0)\n",
      "Requirement already satisfied: python-dateutil>=2.8.2 in c:\\users\\harry\\appdata\\local\\programs\\python\\python311\\lib\\site-packages (from pandas>=1.4.0->geopandas) (2.8.2)\n",
      "Requirement already satisfied: pytz>=2020.1 in c:\\users\\harry\\appdata\\local\\programs\\python\\python311\\lib\\site-packages (from pandas>=1.4.0->geopandas) (2023.3)\n",
      "Requirement already satisfied: tzdata>=2022.1 in c:\\users\\harry\\appdata\\local\\programs\\python\\python311\\lib\\site-packages (from pandas>=1.4.0->geopandas) (2023.3)\n",
      "Requirement already satisfied: numpy>=1.21.0 in c:\\users\\harry\\appdata\\local\\programs\\python\\python311\\lib\\site-packages (from pandas>=1.4.0->geopandas) (1.24.3)\n",
      "Requirement already satisfied: colorama in c:\\users\\harry\\appdata\\local\\programs\\python\\python311\\lib\\site-packages (from click~=8.0->fiona>=1.8.21->geopandas) (0.4.6)\n",
      "Requirement already satisfied: uszipcode in c:\\users\\harry\\appdata\\local\\programs\\python\\python311\\lib\\site-packages (1.0.1)\n",
      "Requirement already satisfied: attrs in c:\\users\\harry\\appdata\\local\\programs\\python\\python311\\lib\\site-packages (from uszipcode) (23.1.0)\n",
      "Requirement already satisfied: requests in c:\\users\\harry\\appdata\\local\\programs\\python\\python311\\lib\\site-packages (from uszipcode) (2.31.0)\n",
      "Requirement already satisfied: pathlib-mate in c:\\users\\harry\\appdata\\local\\programs\\python\\python311\\lib\\site-packages (from uszipcode) (1.2.1)\n",
      "Requirement already satisfied: atomicwrites in c:\\users\\harry\\appdata\\local\\programs\\python\\python311\\lib\\site-packages (from uszipcode) (1.4.1)\n",
      "Requirement already satisfied: fuzzywuzzy in c:\\users\\harry\\appdata\\local\\programs\\python\\python311\\lib\\site-packages (from uszipcode) (0.18.0)\n",
      "Requirement already satisfied: haversine>=2.5.0 in c:\\users\\harry\\appdata\\local\\programs\\python\\python311\\lib\\site-packages (from uszipcode) (2.8.0)\n",
      "Requirement already satisfied: SQLAlchemy>=1.4.0 in c:\\users\\harry\\appdata\\local\\programs\\python\\python311\\lib\\site-packages (from uszipcode) (1.4.50)\n",
      "Requirement already satisfied: sqlalchemy-mate>=1.4.28.3 in c:\\users\\harry\\appdata\\local\\programs\\python\\python311\\lib\\site-packages (from uszipcode) (1.4.28.4)\n",
      "Requirement already satisfied: greenlet!=0.4.17 in c:\\users\\harry\\appdata\\local\\programs\\python\\python311\\lib\\site-packages (from SQLAlchemy>=1.4.0->uszipcode) (3.0.1)\n",
      "Requirement already satisfied: prettytable in c:\\users\\harry\\appdata\\local\\programs\\python\\python311\\lib\\site-packages (from sqlalchemy-mate>=1.4.28.3->uszipcode) (3.9.0)\n",
      "Requirement already satisfied: six in c:\\users\\harry\\appdata\\local\\programs\\python\\python311\\lib\\site-packages (from pathlib-mate->uszipcode) (1.16.0)\n",
      "Requirement already satisfied: charset-normalizer<4,>=2 in c:\\users\\harry\\appdata\\local\\programs\\python\\python311\\lib\\site-packages (from requests->uszipcode) (3.2.0)\n",
      "Requirement already satisfied: idna<4,>=2.5 in c:\\users\\harry\\appdata\\local\\programs\\python\\python311\\lib\\site-packages (from requests->uszipcode) (3.4)\n",
      "Requirement already satisfied: urllib3<3,>=1.21.1 in c:\\users\\harry\\appdata\\local\\programs\\python\\python311\\lib\\site-packages (from requests->uszipcode) (1.26.16)\n",
      "Requirement already satisfied: certifi>=2017.4.17 in c:\\users\\harry\\appdata\\local\\programs\\python\\python311\\lib\\site-packages (from requests->uszipcode) (2023.5.7)\n",
      "Requirement already satisfied: wcwidth in c:\\users\\harry\\appdata\\local\\programs\\python\\python311\\lib\\site-packages (from prettytable->sqlalchemy-mate>=1.4.28.3->uszipcode) (0.2.6)\n",
      "Note: you may need to restart the kernel to use updated packages.\n",
      "Requirement already satisfied: altair in c:\\users\\harry\\appdata\\local\\programs\\python\\python311\\lib\\site-packages (5.1.2)\n",
      "Requirement already satisfied: jinja2 in c:\\users\\harry\\appdata\\local\\programs\\python\\python311\\lib\\site-packages (from altair) (3.1.2)\n",
      "Requirement already satisfied: jsonschema>=3.0 in c:\\users\\harry\\appdata\\local\\programs\\python\\python311\\lib\\site-packages (from altair) (4.19.0)\n",
      "Requirement already satisfied: numpy in c:\\users\\harry\\appdata\\local\\programs\\python\\python311\\lib\\site-packages (from altair) (1.24.3)\n",
      "Requirement already satisfied: packaging in c:\\users\\harry\\appdata\\local\\programs\\python\\python311\\lib\\site-packages (from altair) (23.1)\n",
      "Requirement already satisfied: pandas>=0.25 in c:\\users\\harry\\appdata\\local\\programs\\python\\python311\\lib\\site-packages (from altair) (2.0.3)\n",
      "Requirement already satisfied: toolz in c:\\users\\harry\\appdata\\local\\programs\\python\\python311\\lib\\site-packages (from altair) (0.12.0)\n",
      "Requirement already satisfied: attrs>=22.2.0 in c:\\users\\harry\\appdata\\local\\programs\\python\\python311\\lib\\site-packages (from jsonschema>=3.0->altair) (23.1.0)\n",
      "Requirement already satisfied: jsonschema-specifications>=2023.03.6 in c:\\users\\harry\\appdata\\local\\programs\\python\\python311\\lib\\site-packages (from jsonschema>=3.0->altair) (2023.7.1)\n",
      "Requirement already satisfied: referencing>=0.28.4 in c:\\users\\harry\\appdata\\local\\programs\\python\\python311\\lib\\site-packages (from jsonschema>=3.0->altair) (0.30.2)\n",
      "Requirement already satisfied: rpds-py>=0.7.1 in c:\\users\\harry\\appdata\\local\\programs\\python\\python311\\lib\\site-packages (from jsonschema>=3.0->altair) (0.9.2)\n",
      "Requirement already satisfied: python-dateutil>=2.8.2 in c:\\users\\harry\\appdata\\local\\programs\\python\\python311\\lib\\site-packages (from pandas>=0.25->altair) (2.8.2)\n",
      "Requirement already satisfied: pytz>=2020.1 in c:\\users\\harry\\appdata\\local\\programs\\python\\python311\\lib\\site-packages (from pandas>=0.25->altair) (2023.3)\n",
      "Requirement already satisfied: tzdata>=2022.1 in c:\\users\\harry\\appdata\\local\\programs\\python\\python311\\lib\\site-packages (from pandas>=0.25->altair) (2023.3)\n",
      "Requirement already satisfied: MarkupSafe>=2.0 in c:\\users\\harry\\appdata\\local\\programs\\python\\python311\\lib\\site-packages (from jinja2->altair) (2.1.3)\n",
      "Requirement already satisfied: six>=1.5 in c:\\users\\harry\\appdata\\local\\programs\\python\\python311\\lib\\site-packages (from python-dateutil>=2.8.2->pandas>=0.25->altair) (1.16.0)\n",
      "Note: you may need to restart the kernel to use updated packages.\n",
      "Requirement already satisfied: seaborn in c:\\users\\harry\\appdata\\local\\programs\\python\\python311\\lib\\site-packages (0.12.2)\n",
      "Requirement already satisfied: numpy!=1.24.0,>=1.17 in c:\\users\\harry\\appdata\\local\\programs\\python\\python311\\lib\\site-packages (from seaborn) (1.24.3)\n",
      "Requirement already satisfied: pandas>=0.25 in c:\\users\\harry\\appdata\\local\\programs\\python\\python311\\lib\\site-packages (from seaborn) (2.0.3)\n",
      "Requirement already satisfied: matplotlib!=3.6.1,>=3.1 in c:\\users\\harry\\appdata\\local\\programs\\python\\python311\\lib\\site-packages (from seaborn) (3.7.2)\n",
      "Requirement already satisfied: contourpy>=1.0.1 in c:\\users\\harry\\appdata\\local\\programs\\python\\python311\\lib\\site-packages (from matplotlib!=3.6.1,>=3.1->seaborn) (1.1.0)\n",
      "Requirement already satisfied: cycler>=0.10 in c:\\users\\harry\\appdata\\local\\programs\\python\\python311\\lib\\site-packages (from matplotlib!=3.6.1,>=3.1->seaborn) (0.11.0)\n",
      "Requirement already satisfied: fonttools>=4.22.0 in c:\\users\\harry\\appdata\\local\\programs\\python\\python311\\lib\\site-packages (from matplotlib!=3.6.1,>=3.1->seaborn) (4.42.0)\n",
      "Requirement already satisfied: kiwisolver>=1.0.1 in c:\\users\\harry\\appdata\\local\\programs\\python\\python311\\lib\\site-packages (from matplotlib!=3.6.1,>=3.1->seaborn) (1.4.4)\n",
      "Requirement already satisfied: packaging>=20.0 in c:\\users\\harry\\appdata\\local\\programs\\python\\python311\\lib\\site-packages (from matplotlib!=3.6.1,>=3.1->seaborn) (23.1)\n",
      "Requirement already satisfied: pillow>=6.2.0 in c:\\users\\harry\\appdata\\local\\programs\\python\\python311\\lib\\site-packages (from matplotlib!=3.6.1,>=3.1->seaborn) (10.0.0)\n",
      "Requirement already satisfied: pyparsing<3.1,>=2.3.1 in c:\\users\\harry\\appdata\\local\\programs\\python\\python311\\lib\\site-packages (from matplotlib!=3.6.1,>=3.1->seaborn) (3.0.9)\n",
      "Requirement already satisfied: python-dateutil>=2.7 in c:\\users\\harry\\appdata\\local\\programs\\python\\python311\\lib\\site-packages (from matplotlib!=3.6.1,>=3.1->seaborn) (2.8.2)\n",
      "Requirement already satisfied: pytz>=2020.1 in c:\\users\\harry\\appdata\\local\\programs\\python\\python311\\lib\\site-packages (from pandas>=0.25->seaborn) (2023.3)\n",
      "Requirement already satisfied: tzdata>=2022.1 in c:\\users\\harry\\appdata\\local\\programs\\python\\python311\\lib\\site-packages (from pandas>=0.25->seaborn) (2023.3)\n",
      "Requirement already satisfied: six>=1.5 in c:\\users\\harry\\appdata\\local\\programs\\python\\python311\\lib\\site-packages (from python-dateutil>=2.7->matplotlib!=3.6.1,>=3.1->seaborn) (1.16.0)\n",
      "Note: you may need to restart the kernel to use updated packages.\n",
      "Requirement already satisfied: openpyxl in c:\\users\\harry\\appdata\\local\\programs\\python\\python311\\lib\\site-packages (3.1.2)\n",
      "Requirement already satisfied: et-xmlfile in c:\\users\\harry\\appdata\\local\\programs\\python\\python311\\lib\\site-packages (from openpyxl) (1.1.0)\n",
      "Note: you may need to restart the kernel to use updated packages.\n",
      "Requirement already satisfied: levenshtein in c:\\users\\harry\\appdata\\local\\programs\\python\\python311\\lib\\site-packages (0.23.0)\n",
      "Requirement already satisfied: rapidfuzz<4.0.0,>=3.1.0 in c:\\users\\harry\\appdata\\local\\programs\\python\\python311\\lib\\site-packages (from levenshtein) (3.5.2)\n",
      "Note: you may need to restart the kernel to use updated packages.\n"
     ]
    }
   ],
   "source": [
    "%pip install --upgrade pip\n",
    "%pip install seaborn\n",
    "%pip install openpyxl\n",
    "%pip install python-Levenshtein\n",
    "%pip install pandas\n",
    "%pip install numpy\n",
    "%pip install geopandas\n",
    "%pip install uszipcode\n",
    "%pip install altair\n",
    "%pip install seaborn\n",
    "%pip install openpyxl\n",
    "%pip install levenshtein"
   ]
  },
  {
   "cell_type": "markdown",
   "source": [
    "## Import Libraries:"
   ],
   "metadata": {
    "collapsed": false
   }
  },
  {
   "cell_type": "code",
   "execution_count": 3,
   "outputs": [],
   "source": [
    "import pandas as pd\n",
    "import numpy as np\n",
    "import seaborn as sns\n",
    "%matplotlib inline\n",
    "import geopandas as gpd\n",
    "from shapely.geometry import Point\n",
    "import matplotlib.pyplot as plt\n",
    "from uszipcode import SearchEngine\n",
    "import altair as alt\n",
    "import json\n",
    "from sklearn.cluster import KMeans\n",
    "from sklearn.preprocessing import StandardScaler\n",
    "import warnings"
   ],
   "metadata": {
    "collapsed": false,
    "ExecuteTime": {
     "end_time": "2023-11-26T23:05:29.653679100Z",
     "start_time": "2023-11-26T23:05:28.217927200Z"
    }
   }
  },
  {
   "cell_type": "code",
   "execution_count": 6,
   "outputs": [
    {
     "data": {
      "text/plain": "               Sample Date               Address  1st Draw  2/3 Min  5 Min\n0      2016-01-27 00:00:00   3800 S CAMPBELL AVE      1.54     1.00   1.00\n1      2016-01-27 00:00:00   4500 N MERRIMAC AVE      3.22     2.17   1.94\n2      2016-01-29 00:00:00   2500 N ST LOUIS AVE     19.10     1.89   1.66\n3      2016-01-29 00:00:00  2500 N ST LOUIS AVE*     19.10     1.89   1.66\n4      2016-01-29 00:00:00    6100 S LANGLEY AVE      1.00     1.00   1.00\n...                    ...                   ...       ...      ...    ...\n37313  2023-08-25 16:00:00  4900 W KAMERLING AVE      3.60     7.60   3.30\n37314  2023-08-27 08:21:00       1400 N NOBLE ST      0.50     0.50   0.50\n37315  2023-08-27 09:33:00      800 N PAULINA ST      0.50     0.50   0.50\n37316  2023-08-28 07:00:00   1700 N PARKSIDE AVE      0.50     0.50   0.50\n37317  2023-08-28 09:00:00      5200 W NELSON ST      1.60     0.50   0.60\n\n[37318 rows x 5 columns]",
      "text/html": "<div>\n<style scoped>\n    .dataframe tbody tr th:only-of-type {\n        vertical-align: middle;\n    }\n\n    .dataframe tbody tr th {\n        vertical-align: top;\n    }\n\n    .dataframe thead th {\n        text-align: right;\n    }\n</style>\n<table border=\"1\" class=\"dataframe\">\n  <thead>\n    <tr style=\"text-align: right;\">\n      <th></th>\n      <th>Sample Date</th>\n      <th>Address</th>\n      <th>1st Draw</th>\n      <th>2/3 Min</th>\n      <th>5 Min</th>\n    </tr>\n  </thead>\n  <tbody>\n    <tr>\n      <th>0</th>\n      <td>2016-01-27 00:00:00</td>\n      <td>3800 S CAMPBELL AVE</td>\n      <td>1.54</td>\n      <td>1.00</td>\n      <td>1.00</td>\n    </tr>\n    <tr>\n      <th>1</th>\n      <td>2016-01-27 00:00:00</td>\n      <td>4500 N MERRIMAC AVE</td>\n      <td>3.22</td>\n      <td>2.17</td>\n      <td>1.94</td>\n    </tr>\n    <tr>\n      <th>2</th>\n      <td>2016-01-29 00:00:00</td>\n      <td>2500 N ST LOUIS AVE</td>\n      <td>19.10</td>\n      <td>1.89</td>\n      <td>1.66</td>\n    </tr>\n    <tr>\n      <th>3</th>\n      <td>2016-01-29 00:00:00</td>\n      <td>2500 N ST LOUIS AVE*</td>\n      <td>19.10</td>\n      <td>1.89</td>\n      <td>1.66</td>\n    </tr>\n    <tr>\n      <th>4</th>\n      <td>2016-01-29 00:00:00</td>\n      <td>6100 S LANGLEY AVE</td>\n      <td>1.00</td>\n      <td>1.00</td>\n      <td>1.00</td>\n    </tr>\n    <tr>\n      <th>...</th>\n      <td>...</td>\n      <td>...</td>\n      <td>...</td>\n      <td>...</td>\n      <td>...</td>\n    </tr>\n    <tr>\n      <th>37313</th>\n      <td>2023-08-25 16:00:00</td>\n      <td>4900 W KAMERLING AVE</td>\n      <td>3.60</td>\n      <td>7.60</td>\n      <td>3.30</td>\n    </tr>\n    <tr>\n      <th>37314</th>\n      <td>2023-08-27 08:21:00</td>\n      <td>1400 N NOBLE ST</td>\n      <td>0.50</td>\n      <td>0.50</td>\n      <td>0.50</td>\n    </tr>\n    <tr>\n      <th>37315</th>\n      <td>2023-08-27 09:33:00</td>\n      <td>800 N PAULINA ST</td>\n      <td>0.50</td>\n      <td>0.50</td>\n      <td>0.50</td>\n    </tr>\n    <tr>\n      <th>37316</th>\n      <td>2023-08-28 07:00:00</td>\n      <td>1700 N PARKSIDE AVE</td>\n      <td>0.50</td>\n      <td>0.50</td>\n      <td>0.50</td>\n    </tr>\n    <tr>\n      <th>37317</th>\n      <td>2023-08-28 09:00:00</td>\n      <td>5200 W NELSON ST</td>\n      <td>1.60</td>\n      <td>0.50</td>\n      <td>0.60</td>\n    </tr>\n  </tbody>\n</table>\n<p>37318 rows × 5 columns</p>\n</div>"
     },
     "execution_count": 6,
     "metadata": {},
     "output_type": "execute_result"
    }
   ],
   "source": [
    "df = pd.read_csv('lead_cleaned.csv',index_col=0)\n",
    "df"
   ],
   "metadata": {
    "collapsed": false,
    "ExecuteTime": {
     "end_time": "2023-11-26T23:15:48.316379900Z",
     "start_time": "2023-11-26T23:15:48.270231300Z"
    }
   }
  },
  {
   "cell_type": "code",
   "execution_count": 13,
   "outputs": [
    {
     "data": {
      "text/plain": "<Figure size 640x480 with 1 Axes>",
      "image/png": "[encoded data removed]"
     },
     "metadata": {},
     "output_type": "display_data"
    }
   ],
   "source": [
    "df['group'] = pd.cut(df['2/3 Min'], bins=[0, 1, 10, float('inf')], labels=['<1.0', '1.0-10.0', '>10.0'])\n",
    "group_counts = df['group'].value_counts()\n",
    "colors = {'<1.0': '#47B39C', '1.0-10.0': '#FFC154', '>10.0': '#EC6B56'}\n",
    "plt.pie(group_counts, labels=group_counts.index, colors=[colors[i] for i in group_counts.index], autopct='%1.1f%%')\n",
    "plt.title('Distribution of Lead Water Levels')\n",
    "plt.show()"
   ],
   "metadata": {
    "collapsed": false,
    "ExecuteTime": {
     "end_time": "2023-11-26T23:24:52.788121200Z",
     "start_time": "2023-11-26T23:24:52.721598Z"
    }
   }
  },
  {
   "cell_type": "code",
   "execution_count": null,
   "outputs": [],
   "source": [],
   "metadata": {
    "collapsed": false
   }
  }
 ],
 "metadata": {
  "kernelspec": {
   "display_name": "Python 3",
   "language": "python",
   "name": "python3"
  },
  "language_info": {
   "codemirror_mode": {
    "name": "ipython",
    "version": 2
   },
   "file_extension": ".py",
   "mimetype": "text/x-python",
   "name": "python",
   "nbconvert_exporter": "python",
   "pygments_lexer": "ipython2",
   "version": "2.7.6"
  }
 },
 "nbformat": 4,
 "nbformat_minor": 0
}
