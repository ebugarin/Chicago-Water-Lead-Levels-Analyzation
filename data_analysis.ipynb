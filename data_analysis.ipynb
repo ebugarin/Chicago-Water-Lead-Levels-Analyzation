{
 "cells": [
  {
   "cell_type": "code",
   "execution_count": 1,
   "metadata": {
    "collapsed": true,
    "ExecuteTime": {
     "end_time": "2023-11-02T00:07:08.827131100Z",
     "start_time": "2023-11-02T00:07:06.670058400Z"
    }
   },
   "outputs": [
    {
     "name": "stdout",
     "output_type": "stream",
     "text": [
      "Requirement already satisfied: seaborn in c:\\users\\harry\\appdata\\local\\programs\\python\\python311\\lib\\site-packages (0.12.2)\n",
      "Requirement already satisfied: numpy!=1.24.0,>=1.17 in c:\\users\\harry\\appdata\\local\\programs\\python\\python311\\lib\\site-packages (from seaborn) (1.24.3)\n",
      "Requirement already satisfied: pandas>=0.25 in c:\\users\\harry\\appdata\\local\\programs\\python\\python311\\lib\\site-packages (from seaborn) (2.0.3)\n",
      "Requirement already satisfied: matplotlib!=3.6.1,>=3.1 in c:\\users\\harry\\appdata\\local\\programs\\python\\python311\\lib\\site-packages (from seaborn) (3.7.2)\n",
      "Requirement already satisfied: contourpy>=1.0.1 in c:\\users\\harry\\appdata\\local\\programs\\python\\python311\\lib\\site-packages (from matplotlib!=3.6.1,>=3.1->seaborn) (1.1.0)\n",
      "Requirement already satisfied: cycler>=0.10 in c:\\users\\harry\\appdata\\local\\programs\\python\\python311\\lib\\site-packages (from matplotlib!=3.6.1,>=3.1->seaborn) (0.11.0)\n",
      "Requirement already satisfied: fonttools>=4.22.0 in c:\\users\\harry\\appdata\\local\\programs\\python\\python311\\lib\\site-packages (from matplotlib!=3.6.1,>=3.1->seaborn) (4.42.0)\n",
      "Requirement already satisfied: kiwisolver>=1.0.1 in c:\\users\\harry\\appdata\\local\\programs\\python\\python311\\lib\\site-packages (from matplotlib!=3.6.1,>=3.1->seaborn) (1.4.4)\n",
      "Requirement already satisfied: packaging>=20.0 in c:\\users\\harry\\appdata\\local\\programs\\python\\python311\\lib\\site-packages (from matplotlib!=3.6.1,>=3.1->seaborn) (23.1)\n",
      "Requirement already satisfied: pillow>=6.2.0 in c:\\users\\harry\\appdata\\local\\programs\\python\\python311\\lib\\site-packages (from matplotlib!=3.6.1,>=3.1->seaborn) (10.0.0)\n",
      "Requirement already satisfied: pyparsing<3.1,>=2.3.1 in c:\\users\\harry\\appdata\\local\\programs\\python\\python311\\lib\\site-packages (from matplotlib!=3.6.1,>=3.1->seaborn) (3.0.9)\n",
      "Requirement already satisfied: python-dateutil>=2.7 in c:\\users\\harry\\appdata\\local\\programs\\python\\python311\\lib\\site-packages (from matplotlib!=3.6.1,>=3.1->seaborn) (2.8.2)\n",
      "Requirement already satisfied: pytz>=2020.1 in c:\\users\\harry\\appdata\\local\\programs\\python\\python311\\lib\\site-packages (from pandas>=0.25->seaborn) (2023.3)\n",
      "Requirement already satisfied: tzdata>=2022.1 in c:\\users\\harry\\appdata\\local\\programs\\python\\python311\\lib\\site-packages (from pandas>=0.25->seaborn) (2023.3)\n",
      "Requirement already satisfied: six>=1.5 in c:\\users\\harry\\appdata\\local\\programs\\python\\python311\\lib\\site-packages (from python-dateutil>=2.7->matplotlib!=3.6.1,>=3.1->seaborn) (1.16.0)\n",
      "Note: you may need to restart the kernel to use updated packages.\n"
     ]
    },
    {
     "name": "stderr",
     "output_type": "stream",
     "text": [
      "\n",
      "[notice] A new release of pip is available: 23.2.1 -> 23.3.1\n",
      "[notice] To update, run: python.exe -m pip install --upgrade pip\n"
     ]
    }
   ],
   "source": [
    "%pip install seaborn\n",
    "import pandas as pd\n",
    "import numpy as np\n",
    "import seaborn as sns\n",
    "%matplotlib inline\n",
    "import matplotlib.pyplot as plt"
   ]
  },
  {
   "cell_type": "markdown",
   "source": [
    "Load lead data set"
   ],
   "metadata": {
    "collapsed": false
   }
  },
  {
   "cell_type": "code",
   "execution_count": 49,
   "outputs": [
    {
     "data": {
      "text/plain": "          Sample Date               Address 1st Draw 2/3 Min 5 Min\n0 2019-10-16 00:00:00   1000XX S OAKLEY AVE        3      10   9.6\n1 2019-02-23 00:00:00  100XX S ARTESIAN AVE      9.2     4.3   2.5\n2 2019-05-03 00:00:00  100XX S ARTESIAN AVE      1.1     2.9   1.3\n3 2019-05-05 00:00:00  100XX S ARTESIAN AVE      1.2     2.6   < 1\n4 2021-11-30 09:00:00     100XX S AVENUE L       3.6      16   4.6",
      "text/html": "<div>\n<style scoped>\n    .dataframe tbody tr th:only-of-type {\n        vertical-align: middle;\n    }\n\n    .dataframe tbody tr th {\n        vertical-align: top;\n    }\n\n    .dataframe thead th {\n        text-align: right;\n    }\n</style>\n<table border=\"1\" class=\"dataframe\">\n  <thead>\n    <tr style=\"text-align: right;\">\n      <th></th>\n      <th>Sample Date</th>\n      <th>Address</th>\n      <th>1st Draw</th>\n      <th>2/3 Min</th>\n      <th>5 Min</th>\n    </tr>\n  </thead>\n  <tbody>\n    <tr>\n      <th>0</th>\n      <td>2019-10-16 00:00:00</td>\n      <td>1000XX S OAKLEY AVE</td>\n      <td>3</td>\n      <td>10</td>\n      <td>9.6</td>\n    </tr>\n    <tr>\n      <th>1</th>\n      <td>2019-02-23 00:00:00</td>\n      <td>100XX S ARTESIAN AVE</td>\n      <td>9.2</td>\n      <td>4.3</td>\n      <td>2.5</td>\n    </tr>\n    <tr>\n      <th>2</th>\n      <td>2019-05-03 00:00:00</td>\n      <td>100XX S ARTESIAN AVE</td>\n      <td>1.1</td>\n      <td>2.9</td>\n      <td>1.3</td>\n    </tr>\n    <tr>\n      <th>3</th>\n      <td>2019-05-05 00:00:00</td>\n      <td>100XX S ARTESIAN AVE</td>\n      <td>1.2</td>\n      <td>2.6</td>\n      <td>&lt; 1</td>\n    </tr>\n    <tr>\n      <th>4</th>\n      <td>2021-11-30 09:00:00</td>\n      <td>100XX S AVENUE L</td>\n      <td>3.6</td>\n      <td>16</td>\n      <td>4.6</td>\n    </tr>\n  </tbody>\n</table>\n</div>"
     },
     "execution_count": 49,
     "metadata": {},
     "output_type": "execute_result"
    }
   ],
   "source": [
    "df = pd.read_excel('lead.xlsx',skiprows=2,dtype={'Address': str, '1st Draw': str, '2/3 Min': str, '5 Min': str})\n",
    "df.head()"
   ],
   "metadata": {
    "collapsed": false,
    "ExecuteTime": {
     "end_time": "2023-11-02T01:42:47.612778600Z",
     "start_time": "2023-11-02T01:42:45.487463800Z"
    }
   }
  },
  {
   "cell_type": "markdown",
   "source": [
    "Replace X to 0"
   ],
   "metadata": {
    "collapsed": false
   }
  },
  {
   "cell_type": "code",
   "execution_count": 50,
   "outputs": [
    {
     "data": {
      "text/plain": "              Sample Date               Address 1st Draw 2/3 Min 5 Min\n0     2019-10-16 00:00:00   100000 S OAKLEY AVE        3      10   9.6\n1     2019-02-23 00:00:00  10000 S ARTESIAN AVE      9.2     4.3   2.5\n2     2019-05-03 00:00:00  10000 S ARTESIAN AVE      1.1     2.9   1.3\n3     2019-05-05 00:00:00  10000 S ARTESIAN AVE      1.2     2.6   < 1\n4     2021-11-30 09:00:00      10000 S AVENUE L      3.6      16   4.6\n...                   ...                   ...      ...     ...   ...\n40051 2020-02-19 00:00:00      00 W SCHILLER ST      4.1     3.6   1.2\n40052 2020-11-01 00:00:00      00 W SCHILLER ST      < 1     < 1   < 1\n40053 2022-10-26 07:04:00      00 W SCHILLER ST     <0.5    <0.5  <0.5\n40054 2023-05-23 08:15:00      00 W SCHILLER ST        1     1.3   0.6\n40055 2022-10-15 12:28:00      00 W SUPERIOR ST     <0.5    <0.5  <0.5\n\n[40056 rows x 5 columns]",
      "text/html": "<div>\n<style scoped>\n    .dataframe tbody tr th:only-of-type {\n        vertical-align: middle;\n    }\n\n    .dataframe tbody tr th {\n        vertical-align: top;\n    }\n\n    .dataframe thead th {\n        text-align: right;\n    }\n</style>\n<table border=\"1\" class=\"dataframe\">\n  <thead>\n    <tr style=\"text-align: right;\">\n      <th></th>\n      <th>Sample Date</th>\n      <th>Address</th>\n      <th>1st Draw</th>\n      <th>2/3 Min</th>\n      <th>5 Min</th>\n    </tr>\n  </thead>\n  <tbody>\n    <tr>\n      <th>0</th>\n      <td>2019-10-16 00:00:00</td>\n      <td>100000 S OAKLEY AVE</td>\n      <td>3</td>\n      <td>10</td>\n      <td>9.6</td>\n    </tr>\n    <tr>\n      <th>1</th>\n      <td>2019-02-23 00:00:00</td>\n      <td>10000 S ARTESIAN AVE</td>\n      <td>9.2</td>\n      <td>4.3</td>\n      <td>2.5</td>\n    </tr>\n    <tr>\n      <th>2</th>\n      <td>2019-05-03 00:00:00</td>\n      <td>10000 S ARTESIAN AVE</td>\n      <td>1.1</td>\n      <td>2.9</td>\n      <td>1.3</td>\n    </tr>\n    <tr>\n      <th>3</th>\n      <td>2019-05-05 00:00:00</td>\n      <td>10000 S ARTESIAN AVE</td>\n      <td>1.2</td>\n      <td>2.6</td>\n      <td>&lt; 1</td>\n    </tr>\n    <tr>\n      <th>4</th>\n      <td>2021-11-30 09:00:00</td>\n      <td>10000 S AVENUE L</td>\n      <td>3.6</td>\n      <td>16</td>\n      <td>4.6</td>\n    </tr>\n    <tr>\n      <th>...</th>\n      <td>...</td>\n      <td>...</td>\n      <td>...</td>\n      <td>...</td>\n      <td>...</td>\n    </tr>\n    <tr>\n      <th>40051</th>\n      <td>2020-02-19 00:00:00</td>\n      <td>00 W SCHILLER ST</td>\n      <td>4.1</td>\n      <td>3.6</td>\n      <td>1.2</td>\n    </tr>\n    <tr>\n      <th>40052</th>\n      <td>2020-11-01 00:00:00</td>\n      <td>00 W SCHILLER ST</td>\n      <td>&lt; 1</td>\n      <td>&lt; 1</td>\n      <td>&lt; 1</td>\n    </tr>\n    <tr>\n      <th>40053</th>\n      <td>2022-10-26 07:04:00</td>\n      <td>00 W SCHILLER ST</td>\n      <td>&lt;0.5</td>\n      <td>&lt;0.5</td>\n      <td>&lt;0.5</td>\n    </tr>\n    <tr>\n      <th>40054</th>\n      <td>2023-05-23 08:15:00</td>\n      <td>00 W SCHILLER ST</td>\n      <td>1</td>\n      <td>1.3</td>\n      <td>0.6</td>\n    </tr>\n    <tr>\n      <th>40055</th>\n      <td>2022-10-15 12:28:00</td>\n      <td>00 W SUPERIOR ST</td>\n      <td>&lt;0.5</td>\n      <td>&lt;0.5</td>\n      <td>&lt;0.5</td>\n    </tr>\n  </tbody>\n</table>\n<p>40056 rows × 5 columns</p>\n</div>"
     },
     "execution_count": 50,
     "metadata": {},
     "output_type": "execute_result"
    }
   ],
   "source": [
    "for i,row in df.iterrows():\n",
    "    addr = row['Address']\n",
    "    addr_l = addr.split()\n",
    "    addr_l[0] = addr_l[0].replace('X','0')\n",
    "    fixed_addr = ' '.join(addr_l)\n",
    "    df.loc[i, 'Address'] = fixed_addr\n",
    "df"
   ],
   "metadata": {
    "collapsed": false,
    "ExecuteTime": {
     "end_time": "2023-11-02T01:42:59.338819200Z",
     "start_time": "2023-11-02T01:42:51.003834500Z"
    }
   }
  },
  {
   "cell_type": "markdown",
   "source": [
    "Remove invalid row"
   ],
   "metadata": {
    "collapsed": false
   }
  },
  {
   "cell_type": "code",
   "execution_count": 57,
   "outputs": [
    {
     "data": {
      "text/plain": "              Sample Date               Address  1st Draw 2/3 Min 5 Min\n0     2019-10-16 00:00:00   100000 S OAKLEY AVE       3.0      10   9.6\n1     2019-02-23 00:00:00  10000 S ARTESIAN AVE       9.2     4.3   2.5\n2     2019-05-03 00:00:00  10000 S ARTESIAN AVE       1.1     2.9   1.3\n3     2019-05-05 00:00:00  10000 S ARTESIAN AVE       1.2     2.6     1\n4     2021-11-30 09:00:00      10000 S AVENUE L       3.6      16   4.6\n...                   ...                   ...       ...     ...   ...\n40051 2020-02-19 00:00:00      00 W SCHILLER ST       4.1     3.6   1.2\n40052 2020-11-01 00:00:00      00 W SCHILLER ST       1.0       1     1\n40053 2022-10-26 07:04:00      00 W SCHILLER ST       0.5     0.5   0.5\n40054 2023-05-23 08:15:00      00 W SCHILLER ST       1.0     1.3   0.6\n40055 2022-10-15 12:28:00      00 W SUPERIOR ST       0.5     0.5   0.5\n\n[37318 rows x 5 columns]",
      "text/html": "<div>\n<style scoped>\n    .dataframe tbody tr th:only-of-type {\n        vertical-align: middle;\n    }\n\n    .dataframe tbody tr th {\n        vertical-align: top;\n    }\n\n    .dataframe thead th {\n        text-align: right;\n    }\n</style>\n<table border=\"1\" class=\"dataframe\">\n  <thead>\n    <tr style=\"text-align: right;\">\n      <th></th>\n      <th>Sample Date</th>\n      <th>Address</th>\n      <th>1st Draw</th>\n      <th>2/3 Min</th>\n      <th>5 Min</th>\n    </tr>\n  </thead>\n  <tbody>\n    <tr>\n      <th>0</th>\n      <td>2019-10-16 00:00:00</td>\n      <td>100000 S OAKLEY AVE</td>\n      <td>3.0</td>\n      <td>10</td>\n      <td>9.6</td>\n    </tr>\n    <tr>\n      <th>1</th>\n      <td>2019-02-23 00:00:00</td>\n      <td>10000 S ARTESIAN AVE</td>\n      <td>9.2</td>\n      <td>4.3</td>\n      <td>2.5</td>\n    </tr>\n    <tr>\n      <th>2</th>\n      <td>2019-05-03 00:00:00</td>\n      <td>10000 S ARTESIAN AVE</td>\n      <td>1.1</td>\n      <td>2.9</td>\n      <td>1.3</td>\n    </tr>\n    <tr>\n      <th>3</th>\n      <td>2019-05-05 00:00:00</td>\n      <td>10000 S ARTESIAN AVE</td>\n      <td>1.2</td>\n      <td>2.6</td>\n      <td>1</td>\n    </tr>\n    <tr>\n      <th>4</th>\n      <td>2021-11-30 09:00:00</td>\n      <td>10000 S AVENUE L</td>\n      <td>3.6</td>\n      <td>16</td>\n      <td>4.6</td>\n    </tr>\n    <tr>\n      <th>...</th>\n      <td>...</td>\n      <td>...</td>\n      <td>...</td>\n      <td>...</td>\n      <td>...</td>\n    </tr>\n    <tr>\n      <th>40051</th>\n      <td>2020-02-19 00:00:00</td>\n      <td>00 W SCHILLER ST</td>\n      <td>4.1</td>\n      <td>3.6</td>\n      <td>1.2</td>\n    </tr>\n    <tr>\n      <th>40052</th>\n      <td>2020-11-01 00:00:00</td>\n      <td>00 W SCHILLER ST</td>\n      <td>1.0</td>\n      <td>1</td>\n      <td>1</td>\n    </tr>\n    <tr>\n      <th>40053</th>\n      <td>2022-10-26 07:04:00</td>\n      <td>00 W SCHILLER ST</td>\n      <td>0.5</td>\n      <td>0.5</td>\n      <td>0.5</td>\n    </tr>\n    <tr>\n      <th>40054</th>\n      <td>2023-05-23 08:15:00</td>\n      <td>00 W SCHILLER ST</td>\n      <td>1.0</td>\n      <td>1.3</td>\n      <td>0.6</td>\n    </tr>\n    <tr>\n      <th>40055</th>\n      <td>2022-10-15 12:28:00</td>\n      <td>00 W SUPERIOR ST</td>\n      <td>0.5</td>\n      <td>0.5</td>\n      <td>0.5</td>\n    </tr>\n  </tbody>\n</table>\n<p>37318 rows × 5 columns</p>\n</div>"
     },
     "execution_count": 57,
     "metadata": {},
     "output_type": "execute_result"
    }
   ],
   "source": [
    "df = df[df['1st Draw'].notna()]\n",
    "df = df[df['2/3 Min'].notna()]\n",
    "df = df[df['5 Min'].notna()]\n",
    "df = df[df['1st Draw'] != ' ']\n",
    "df = df[df['5 Min'] != ' ']\n",
    "df = df[df['2/3 Min'] != ' ']\n",
    "df = df[df['1st Draw'] != '']\n",
    "df = df[df['5 Min'] != '']\n",
    "df = df[df['2/3 Min'] != '']\n",
    "df"
   ],
   "metadata": {
    "collapsed": false,
    "ExecuteTime": {
     "end_time": "2023-11-02T01:47:22.051010800Z",
     "start_time": "2023-11-02T01:47:22.005134500Z"
    }
   }
  },
  {
   "cell_type": "markdown",
   "source": [
    "remove '<' symbol"
   ],
   "metadata": {
    "collapsed": false
   }
  },
  {
   "cell_type": "code",
   "execution_count": 60,
   "outputs": [
    {
     "data": {
      "text/plain": "              Sample Date               Address  1st Draw  2/3 Min  5 Min\n0     2016-01-27 00:00:00   3800 S CAMPBELL AVE      1.54     1.00   1.00\n1     2016-01-27 00:00:00   4500 N MERRIMAC AVE      3.22     2.17   1.94\n2     2016-01-29 00:00:00   2500 N ST LOUIS AVE     19.10     1.89   1.66\n3     2016-01-29 00:00:00  2500 N ST LOUIS AVE*     19.10     1.89   1.66\n4     2016-01-29 00:00:00    6100 S LANGLEY AVE      1.00     1.00   1.00\n...                   ...                   ...       ...      ...    ...\n37313 2023-08-25 16:00:00  4900 W KAMERLING AVE      3.60     7.60   3.30\n37314 2023-08-27 08:21:00       1400 N NOBLE ST      0.50     0.50   0.50\n37315 2023-08-27 09:33:00      800 N PAULINA ST      0.50     0.50   0.50\n37316 2023-08-28 07:00:00   1700 N PARKSIDE AVE      0.50     0.50   0.50\n37317 2023-08-28 09:00:00      5200 W NELSON ST      1.60     0.50   0.60\n\n[37318 rows x 5 columns]",
      "text/html": "<div>\n<style scoped>\n    .dataframe tbody tr th:only-of-type {\n        vertical-align: middle;\n    }\n\n    .dataframe tbody tr th {\n        vertical-align: top;\n    }\n\n    .dataframe thead th {\n        text-align: right;\n    }\n</style>\n<table border=\"1\" class=\"dataframe\">\n  <thead>\n    <tr style=\"text-align: right;\">\n      <th></th>\n      <th>Sample Date</th>\n      <th>Address</th>\n      <th>1st Draw</th>\n      <th>2/3 Min</th>\n      <th>5 Min</th>\n    </tr>\n  </thead>\n  <tbody>\n    <tr>\n      <th>0</th>\n      <td>2016-01-27 00:00:00</td>\n      <td>3800 S CAMPBELL AVE</td>\n      <td>1.54</td>\n      <td>1.00</td>\n      <td>1.00</td>\n    </tr>\n    <tr>\n      <th>1</th>\n      <td>2016-01-27 00:00:00</td>\n      <td>4500 N MERRIMAC AVE</td>\n      <td>3.22</td>\n      <td>2.17</td>\n      <td>1.94</td>\n    </tr>\n    <tr>\n      <th>2</th>\n      <td>2016-01-29 00:00:00</td>\n      <td>2500 N ST LOUIS AVE</td>\n      <td>19.10</td>\n      <td>1.89</td>\n      <td>1.66</td>\n    </tr>\n    <tr>\n      <th>3</th>\n      <td>2016-01-29 00:00:00</td>\n      <td>2500 N ST LOUIS AVE*</td>\n      <td>19.10</td>\n      <td>1.89</td>\n      <td>1.66</td>\n    </tr>\n    <tr>\n      <th>4</th>\n      <td>2016-01-29 00:00:00</td>\n      <td>6100 S LANGLEY AVE</td>\n      <td>1.00</td>\n      <td>1.00</td>\n      <td>1.00</td>\n    </tr>\n    <tr>\n      <th>...</th>\n      <td>...</td>\n      <td>...</td>\n      <td>...</td>\n      <td>...</td>\n      <td>...</td>\n    </tr>\n    <tr>\n      <th>37313</th>\n      <td>2023-08-25 16:00:00</td>\n      <td>4900 W KAMERLING AVE</td>\n      <td>3.60</td>\n      <td>7.60</td>\n      <td>3.30</td>\n    </tr>\n    <tr>\n      <th>37314</th>\n      <td>2023-08-27 08:21:00</td>\n      <td>1400 N NOBLE ST</td>\n      <td>0.50</td>\n      <td>0.50</td>\n      <td>0.50</td>\n    </tr>\n    <tr>\n      <th>37315</th>\n      <td>2023-08-27 09:33:00</td>\n      <td>800 N PAULINA ST</td>\n      <td>0.50</td>\n      <td>0.50</td>\n      <td>0.50</td>\n    </tr>\n    <tr>\n      <th>37316</th>\n      <td>2023-08-28 07:00:00</td>\n      <td>1700 N PARKSIDE AVE</td>\n      <td>0.50</td>\n      <td>0.50</td>\n      <td>0.50</td>\n    </tr>\n    <tr>\n      <th>37317</th>\n      <td>2023-08-28 09:00:00</td>\n      <td>5200 W NELSON ST</td>\n      <td>1.60</td>\n      <td>0.50</td>\n      <td>0.60</td>\n    </tr>\n  </tbody>\n</table>\n<p>37318 rows × 5 columns</p>\n</div>"
     },
     "execution_count": 60,
     "metadata": {},
     "output_type": "execute_result"
    }
   ],
   "source": [
    "cols = ['1st Draw', '2/3 Min', '5 Min']\n",
    "df[cols] = df[cols].applymap(lambda x: x.replace('<', '').strip() if isinstance(x, str) else x)\n",
    "df['1st Draw'] = df['1st Draw'].astype(float)\n",
    "df['2/3 Min'] = df['2/3 Min'].astype(float)\n",
    "df['5 Min'] = df['5 Min'].astype(float)\n",
    "df = df.sort_values('Sample Date', ascending=True).reset_index(drop=True)\n",
    "df"
   ],
   "metadata": {
    "collapsed": false,
    "ExecuteTime": {
     "end_time": "2023-11-02T01:49:32.651188400Z",
     "start_time": "2023-11-02T01:49:32.620732400Z"
    }
   }
  },
  {
   "cell_type": "code",
   "execution_count": null,
   "outputs": [],
   "source": [],
   "metadata": {
    "collapsed": false
   }
  }
 ],
 "metadata": {
  "kernelspec": {
   "display_name": "Python 3",
   "language": "python",
   "name": "python3"
  },
  "language_info": {
   "codemirror_mode": {
    "name": "ipython",
    "version": 2
   },
   "file_extension": ".py",
   "mimetype": "text/x-python",
   "name": "python",
   "nbconvert_exporter": "python",
   "pygments_lexer": "ipython2",
   "version": "2.7.6"
  }
 },
 "nbformat": 4,
 "nbformat_minor": 0
}
