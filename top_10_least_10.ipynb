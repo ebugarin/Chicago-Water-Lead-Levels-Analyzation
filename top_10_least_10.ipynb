{
 "cells": [
  {
   "cell_type": "markdown",
   "source": [
    "# Install Requirement"
   ],
   "metadata": {
    "collapsed": false
   }
  },
  {
   "cell_type": "code",
   "execution_count": null,
   "metadata": {
    "collapsed": true
   },
   "outputs": [],
   "source": [
    "%pip install --upgrade pip\n",
    "%pip install seaborn\n",
    "%pip install openpyxl\n",
    "%pip install python-Levenshtein\n",
    "%pip install pandas\n",
    "%pip install numpy\n",
    "%pip install geopandas\n",
    "%pip install uszipcode\n",
    "%pip install altair\n",
    "%pip install seaborn\n",
    "%pip install openpyxl\n",
    "%pip install levenshtein"
   ]
  },
  {
   "cell_type": "markdown",
   "source": [
    "# Import Libraries"
   ],
   "metadata": {
    "collapsed": false
   }
  },
  {
   "cell_type": "code",
   "execution_count": 2,
   "outputs": [],
   "source": [
    "import pandas as pd\n",
    "import numpy as np\n",
    "import seaborn as sns\n",
    "%matplotlib inline\n",
    "import geopandas as gpd\n",
    "from shapely.geometry import Point\n",
    "import matplotlib.pyplot as plt\n",
    "from uszipcode import SearchEngine\n",
    "import altair as alt\n",
    "import json\n",
    "from sklearn.cluster import KMeans\n",
    "from sklearn.preprocessing import StandardScaler\n",
    "import warnings"
   ],
   "metadata": {
    "collapsed": false,
    "ExecuteTime": {
     "end_time": "2023-11-28T01:45:00.340754500Z",
     "start_time": "2023-11-28T01:44:59.146248600Z"
    }
   }
  },
  {
   "cell_type": "markdown",
   "source": [
    "# Clean Data"
   ],
   "metadata": {
    "collapsed": false
   }
  },
  {
   "cell_type": "code",
   "execution_count": 36,
   "outputs": [
    {
     "data": {
      "text/plain": "       1st Draw  2/3 Min  5 Min    zip\n0          1.54     1.00   1.00  60609\n1          3.22     2.17   1.94  60706\n2         19.10     1.89   1.66  60647\n3         19.10     1.89   1.66  60647\n4          1.00     1.00   1.00  60637\n...         ...      ...    ...    ...\n35421      3.60     7.60   3.30  60651\n35422      0.50     0.50   0.50  60642\n35423      0.50     0.50   0.50  60622\n35424      0.50     0.50   0.50  60639\n35425      1.60     0.50   0.60  60641\n\n[35426 rows x 4 columns]",
      "text/html": "<div>\n<style scoped>\n    .dataframe tbody tr th:only-of-type {\n        vertical-align: middle;\n    }\n\n    .dataframe tbody tr th {\n        vertical-align: top;\n    }\n\n    .dataframe thead th {\n        text-align: right;\n    }\n</style>\n<table border=\"1\" class=\"dataframe\">\n  <thead>\n    <tr style=\"text-align: right;\">\n      <th></th>\n      <th>1st Draw</th>\n      <th>2/3 Min</th>\n      <th>5 Min</th>\n      <th>zip</th>\n    </tr>\n  </thead>\n  <tbody>\n    <tr>\n      <th>0</th>\n      <td>1.54</td>\n      <td>1.00</td>\n      <td>1.00</td>\n      <td>60609</td>\n    </tr>\n    <tr>\n      <th>1</th>\n      <td>3.22</td>\n      <td>2.17</td>\n      <td>1.94</td>\n      <td>60706</td>\n    </tr>\n    <tr>\n      <th>2</th>\n      <td>19.10</td>\n      <td>1.89</td>\n      <td>1.66</td>\n      <td>60647</td>\n    </tr>\n    <tr>\n      <th>3</th>\n      <td>19.10</td>\n      <td>1.89</td>\n      <td>1.66</td>\n      <td>60647</td>\n    </tr>\n    <tr>\n      <th>4</th>\n      <td>1.00</td>\n      <td>1.00</td>\n      <td>1.00</td>\n      <td>60637</td>\n    </tr>\n    <tr>\n      <th>...</th>\n      <td>...</td>\n      <td>...</td>\n      <td>...</td>\n      <td>...</td>\n    </tr>\n    <tr>\n      <th>35421</th>\n      <td>3.60</td>\n      <td>7.60</td>\n      <td>3.30</td>\n      <td>60651</td>\n    </tr>\n    <tr>\n      <th>35422</th>\n      <td>0.50</td>\n      <td>0.50</td>\n      <td>0.50</td>\n      <td>60642</td>\n    </tr>\n    <tr>\n      <th>35423</th>\n      <td>0.50</td>\n      <td>0.50</td>\n      <td>0.50</td>\n      <td>60622</td>\n    </tr>\n    <tr>\n      <th>35424</th>\n      <td>0.50</td>\n      <td>0.50</td>\n      <td>0.50</td>\n      <td>60639</td>\n    </tr>\n    <tr>\n      <th>35425</th>\n      <td>1.60</td>\n      <td>0.50</td>\n      <td>0.60</td>\n      <td>60641</td>\n    </tr>\n  </tbody>\n</table>\n<p>35426 rows × 4 columns</p>\n</div>"
     },
     "execution_count": 36,
     "metadata": {},
     "output_type": "execute_result"
    }
   ],
   "source": [
    "df = pd.read_csv('merged_df.csv',index_col=0)\n",
    "df = df[df['1st Draw'] <= 100]\n",
    "df = df[df['2/3 Min'] <= 100]\n",
    "df = df[df['5 Min'] <= 100]\n",
    "df = df[df['zip'] != 'error'].reset_index()\n",
    "df = df[['1st Draw', '2/3 Min', '5 Min', 'zip']]\n",
    "df"
   ],
   "metadata": {
    "collapsed": false,
    "ExecuteTime": {
     "end_time": "2023-11-28T02:03:03.773998Z",
     "start_time": "2023-11-28T02:03:03.679346600Z"
    }
   }
  },
  {
   "cell_type": "markdown",
   "source": [
    "# Get Top 10 lead level"
   ],
   "metadata": {
    "collapsed": false
   }
  },
  {
   "cell_type": "code",
   "execution_count": 54,
   "outputs": [
    {
     "data": {
      "text/plain": "      zip       avg               city\n0   60803  0.566667              Alsip\n1   60605  0.911358            Chicago\n2   60601  0.940404            Chicago\n3   60654  0.991884            Chicago\n4   60007  1.000000  Elk Grove Village\n..    ...       ...                ...\n71  60501  6.000733        Summit Argo\n72  60617  6.013223            Chicago\n73  60827  6.243616          Riverdale\n74  60406  6.734848        Blue Island\n75  61834  7.533333           Danville\n\n[76 rows x 3 columns]",
      "text/html": "<div>\n<style scoped>\n    .dataframe tbody tr th:only-of-type {\n        vertical-align: middle;\n    }\n\n    .dataframe tbody tr th {\n        vertical-align: top;\n    }\n\n    .dataframe thead th {\n        text-align: right;\n    }\n</style>\n<table border=\"1\" class=\"dataframe\">\n  <thead>\n    <tr style=\"text-align: right;\">\n      <th></th>\n      <th>zip</th>\n      <th>avg</th>\n      <th>city</th>\n    </tr>\n  </thead>\n  <tbody>\n    <tr>\n      <th>0</th>\n      <td>60803</td>\n      <td>0.566667</td>\n      <td>Alsip</td>\n    </tr>\n    <tr>\n      <th>1</th>\n      <td>60605</td>\n      <td>0.911358</td>\n      <td>Chicago</td>\n    </tr>\n    <tr>\n      <th>2</th>\n      <td>60601</td>\n      <td>0.940404</td>\n      <td>Chicago</td>\n    </tr>\n    <tr>\n      <th>3</th>\n      <td>60654</td>\n      <td>0.991884</td>\n      <td>Chicago</td>\n    </tr>\n    <tr>\n      <th>4</th>\n      <td>60007</td>\n      <td>1.000000</td>\n      <td>Elk Grove Village</td>\n    </tr>\n    <tr>\n      <th>...</th>\n      <td>...</td>\n      <td>...</td>\n      <td>...</td>\n    </tr>\n    <tr>\n      <th>71</th>\n      <td>60501</td>\n      <td>6.000733</td>\n      <td>Summit Argo</td>\n    </tr>\n    <tr>\n      <th>72</th>\n      <td>60617</td>\n      <td>6.013223</td>\n      <td>Chicago</td>\n    </tr>\n    <tr>\n      <th>73</th>\n      <td>60827</td>\n      <td>6.243616</td>\n      <td>Riverdale</td>\n    </tr>\n    <tr>\n      <th>74</th>\n      <td>60406</td>\n      <td>6.734848</td>\n      <td>Blue Island</td>\n    </tr>\n    <tr>\n      <th>75</th>\n      <td>61834</td>\n      <td>7.533333</td>\n      <td>Danville</td>\n    </tr>\n  </tbody>\n</table>\n<p>76 rows × 3 columns</p>\n</div>"
     },
     "execution_count": 54,
     "metadata": {},
     "output_type": "execute_result"
    }
   ],
   "source": [
    "df_zipcodes = pd.read_csv('uszips.csv',index_col=0)\n",
    "df['avg'] = df[['1st Draw', '2/3 Min', '5 Min']].sum(axis=1) / 3\n",
    "df_avg = df.groupby('zip')['avg'].mean()\n",
    "df_avg = df_avg.sort_values()\n",
    "df_avg = df_avg.to_frame().reset_index()\n",
    "df_avg['zip'] = df_avg['zip'].astype(int)\n",
    "merged_df = df_avg.merge(df_zipcodes, on='zip', how='inner')\n",
    "merged_df = merged_df[['zip', 'avg', 'city']]\n",
    "merged_df"
   ],
   "metadata": {
    "collapsed": false,
    "ExecuteTime": {
     "end_time": "2023-11-28T02:23:03.294645500Z",
     "start_time": "2023-11-28T02:23:03.201893400Z"
    }
   }
  },
  {
   "cell_type": "code",
   "execution_count": 53,
   "outputs": [
    {
     "data": {
      "text/plain": "      zip       avg         city\n75  61834  7.533333     Danville\n74  60406  6.734848  Blue Island\n73  60827  6.243616    Riverdale\n72  60617  6.013223      Chicago\n71  60501  6.000733  Summit Argo\n..    ...       ...          ...\n5   60301  1.000000     Oak Park\n3   60654  0.991884      Chicago\n2   60601  0.940404      Chicago\n1   60605  0.911358      Chicago\n0   60803  0.566667        Alsip\n\n[76 rows x 3 columns]",
      "text/html": "<div>\n<style scoped>\n    .dataframe tbody tr th:only-of-type {\n        vertical-align: middle;\n    }\n\n    .dataframe tbody tr th {\n        vertical-align: top;\n    }\n\n    .dataframe thead th {\n        text-align: right;\n    }\n</style>\n<table border=\"1\" class=\"dataframe\">\n  <thead>\n    <tr style=\"text-align: right;\">\n      <th></th>\n      <th>zip</th>\n      <th>avg</th>\n      <th>city</th>\n    </tr>\n  </thead>\n  <tbody>\n    <tr>\n      <th>75</th>\n      <td>61834</td>\n      <td>7.533333</td>\n      <td>Danville</td>\n    </tr>\n    <tr>\n      <th>74</th>\n      <td>60406</td>\n      <td>6.734848</td>\n      <td>Blue Island</td>\n    </tr>\n    <tr>\n      <th>73</th>\n      <td>60827</td>\n      <td>6.243616</td>\n      <td>Riverdale</td>\n    </tr>\n    <tr>\n      <th>72</th>\n      <td>60617</td>\n      <td>6.013223</td>\n      <td>Chicago</td>\n    </tr>\n    <tr>\n      <th>71</th>\n      <td>60501</td>\n      <td>6.000733</td>\n      <td>Summit Argo</td>\n    </tr>\n    <tr>\n      <th>...</th>\n      <td>...</td>\n      <td>...</td>\n      <td>...</td>\n    </tr>\n    <tr>\n      <th>5</th>\n      <td>60301</td>\n      <td>1.000000</td>\n      <td>Oak Park</td>\n    </tr>\n    <tr>\n      <th>3</th>\n      <td>60654</td>\n      <td>0.991884</td>\n      <td>Chicago</td>\n    </tr>\n    <tr>\n      <th>2</th>\n      <td>60601</td>\n      <td>0.940404</td>\n      <td>Chicago</td>\n    </tr>\n    <tr>\n      <th>1</th>\n      <td>60605</td>\n      <td>0.911358</td>\n      <td>Chicago</td>\n    </tr>\n    <tr>\n      <th>0</th>\n      <td>60803</td>\n      <td>0.566667</td>\n      <td>Alsip</td>\n    </tr>\n  </tbody>\n</table>\n<p>76 rows × 3 columns</p>\n</div>"
     },
     "execution_count": 53,
     "metadata": {},
     "output_type": "execute_result"
    }
   ],
   "source": [
    "merged_df = merged_df.sort_values(by=['avg'],ascending=False)\n",
    "merged_df"
   ],
   "metadata": {
    "collapsed": false,
    "ExecuteTime": {
     "end_time": "2023-11-28T02:19:33.792562300Z",
     "start_time": "2023-11-28T02:19:33.764757400Z"
    }
   }
  },
  {
   "cell_type": "code",
   "execution_count": null,
   "outputs": [],
   "source": [],
   "metadata": {
    "collapsed": false
   }
  }
 ],
 "metadata": {
  "kernelspec": {
   "display_name": "Python 3",
   "language": "python",
   "name": "python3"
  },
  "language_info": {
   "codemirror_mode": {
    "name": "ipython",
    "version": 2
   },
   "file_extension": ".py",
   "mimetype": "text/x-python",
   "name": "python",
   "nbconvert_exporter": "python",
   "pygments_lexer": "ipython2",
   "version": "2.7.6"
  }
 },
 "nbformat": 4,
 "nbformat_minor": 0
}
